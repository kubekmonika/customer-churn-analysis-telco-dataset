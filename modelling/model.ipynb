{
 "cells": [
  {
   "cell_type": "markdown",
   "id": "00fdab91",
   "metadata": {},
   "source": [
    "# Building a model"
   ]
  },
  {
   "cell_type": "markdown",
   "id": "fe6c0ead",
   "metadata": {},
   "source": [
    "In this notebook I will test various machine learning models to find one that gives the best results in predicting the churn."
   ]
  },
  {
   "cell_type": "markdown",
   "id": "03a2485c",
   "metadata": {},
   "source": [
    "### Load libraries"
   ]
  },
  {
   "cell_type": "code",
   "execution_count": 1,
   "id": "fadd2b5e",
   "metadata": {},
   "outputs": [],
   "source": [
    "import pandas as pd\n",
    "import numpy as np\n",
    "import srs\n",
    "\n",
    "from sklearn import metrics"
   ]
  },
  {
   "cell_type": "code",
   "execution_count": 2,
   "id": "be554564-707d-4b30-8226-bc3825f6b964",
   "metadata": {},
   "outputs": [],
   "source": [
    "import seaborn as sns\n",
    "\n",
    "sns.set()"
   ]
  },
  {
   "cell_type": "code",
   "execution_count": 3,
   "id": "60f05dd8",
   "metadata": {},
   "outputs": [],
   "source": [
    "import warnings\n",
    "warnings.simplefilter(action='ignore', category=FutureWarning)"
   ]
  },
  {
   "cell_type": "markdown",
   "id": "0dc1ab54",
   "metadata": {},
   "source": [
    "### Load data"
   ]
  },
  {
   "cell_type": "code",
   "execution_count": 4,
   "id": "d13330c0",
   "metadata": {},
   "outputs": [],
   "source": [
    "dataset = pd.read_csv('../data/transformed.csv', index_col='customerID')"
   ]
  },
  {
   "cell_type": "markdown",
   "id": "33d45666",
   "metadata": {},
   "source": [
    "Description of the features:\n",
    "* Gender: The customer’s gender: Male, Female\n",
    "* Senior Citizen: Indicates if the customer is 65 or older: Yes, No\n",
    "* Partner: Indicates if the customer is a partner: Yes, No\n",
    "* Dependents: Indicates if the customer lives with any dependents: Yes, No. Dependents could be children, parents, grandparents, etc.\n",
    "* Phone Service: Indicates if the customer subscribes to home phone service with the company: Yes, No\n",
    "* Internet Service: Indicates if the customer subscribes to Internet service with the company: No, DSL, Fiber Optic, Cable.\n",
    "* Online Security: Indicates if the customer subscribes to an additional online security service provided by the company: Yes, No\n",
    "* Online Backup: Indicates if the customer subscribes to an additional online backup service provided by the company: Yes, No\n",
    "* Device Protection Plan: Indicates if the customer subscribes to an additional device protection plan for their Internet equipment provided by the company: Yes, No\n",
    "* Tech Support: Indicates if the customer subscribes to an additional technical support plan from the company with reduced wait times: Yes, No\n",
    "* Streaming TV: Indicates if the customer uses their Internet service to stream television programing from a third party provider: Yes, No. The company does not charge an additional fee for this service\n",
    "* Streaming Movies: Indicates if the customer uses their Internet service to stream movies from a third party provider: Yes, No. The company does not charge an additional fee for this service\n",
    "* Contract: Indicates the customer’s current contract type: Month-to-Month, One Year, Two Year\n",
    "* Paperless Billing: Indicates if the customer has chosen paperless billing: Yes, No\n",
    "* Payment Method: Indicates how the customer pays their bill: Bank Withdrawal, Credit Card, Mailed Check\n",
    "* Tenure Buckets: Indicates the range in which the customer's tenure value is, it is denoted in months: 0-20, 21-50, 50+\n",
    "* Monthly Charges Buckets: Indicates a range in which the customer’s current total monthly charge is for all their services from the company: 0-40, 41-60, 60+\n",
    "* Multiple Lines Buckets: Indicates if the customer subscribes to multiple telephone lines with the company: Yes; either has one line or not at all: Other\n",
    "* Num Internet Services: Indicates the total number of additional internet services the customer has: 0 - 6\n",
    "* Churn: Indicates if the customer have churned: Yes, No"
   ]
  },
  {
   "cell_type": "code",
   "execution_count": 5,
   "id": "98312c0a",
   "metadata": {},
   "outputs": [
    {
     "data": {
      "text/html": [
       "<div>\n",
       "<style scoped>\n",
       "    .dataframe tbody tr th:only-of-type {\n",
       "        vertical-align: middle;\n",
       "    }\n",
       "\n",
       "    .dataframe tbody tr th {\n",
       "        vertical-align: top;\n",
       "    }\n",
       "\n",
       "    .dataframe thead th {\n",
       "        text-align: right;\n",
       "    }\n",
       "</style>\n",
       "<table border=\"1\" class=\"dataframe\">\n",
       "  <thead>\n",
       "    <tr style=\"text-align: right;\">\n",
       "      <th></th>\n",
       "      <th>Gender</th>\n",
       "      <th>SeniorCitizen</th>\n",
       "      <th>Partner</th>\n",
       "      <th>Dependents</th>\n",
       "      <th>PhoneService</th>\n",
       "      <th>InternetService</th>\n",
       "      <th>OnlineSecurity</th>\n",
       "      <th>OnlineBackup</th>\n",
       "      <th>DeviceProtection</th>\n",
       "      <th>TechSupport</th>\n",
       "      <th>StreamingTV</th>\n",
       "      <th>StreamingMovies</th>\n",
       "      <th>Contract</th>\n",
       "      <th>PaperlessBilling</th>\n",
       "      <th>PaymentMethod</th>\n",
       "      <th>TenureBuckets</th>\n",
       "      <th>MonthlyChargesBuckets</th>\n",
       "      <th>MultipleLinesBuckets</th>\n",
       "      <th>NumInternetlServices</th>\n",
       "      <th>Churn</th>\n",
       "    </tr>\n",
       "    <tr>\n",
       "      <th>customerID</th>\n",
       "      <th></th>\n",
       "      <th></th>\n",
       "      <th></th>\n",
       "      <th></th>\n",
       "      <th></th>\n",
       "      <th></th>\n",
       "      <th></th>\n",
       "      <th></th>\n",
       "      <th></th>\n",
       "      <th></th>\n",
       "      <th></th>\n",
       "      <th></th>\n",
       "      <th></th>\n",
       "      <th></th>\n",
       "      <th></th>\n",
       "      <th></th>\n",
       "      <th></th>\n",
       "      <th></th>\n",
       "      <th></th>\n",
       "      <th></th>\n",
       "    </tr>\n",
       "  </thead>\n",
       "  <tbody>\n",
       "    <tr>\n",
       "      <th>7590-VHVEG</th>\n",
       "      <td>Female</td>\n",
       "      <td>No</td>\n",
       "      <td>Yes</td>\n",
       "      <td>No</td>\n",
       "      <td>No</td>\n",
       "      <td>DSL</td>\n",
       "      <td>No</td>\n",
       "      <td>Yes</td>\n",
       "      <td>No</td>\n",
       "      <td>No</td>\n",
       "      <td>No</td>\n",
       "      <td>No</td>\n",
       "      <td>Month-to-month</td>\n",
       "      <td>Yes</td>\n",
       "      <td>Electronic check</td>\n",
       "      <td>0-20</td>\n",
       "      <td>0-40</td>\n",
       "      <td>Other</td>\n",
       "      <td>1</td>\n",
       "      <td>No</td>\n",
       "    </tr>\n",
       "    <tr>\n",
       "      <th>5575-GNVDE</th>\n",
       "      <td>Male</td>\n",
       "      <td>No</td>\n",
       "      <td>No</td>\n",
       "      <td>No</td>\n",
       "      <td>Yes</td>\n",
       "      <td>DSL</td>\n",
       "      <td>Yes</td>\n",
       "      <td>No</td>\n",
       "      <td>Yes</td>\n",
       "      <td>No</td>\n",
       "      <td>No</td>\n",
       "      <td>No</td>\n",
       "      <td>One year</td>\n",
       "      <td>No</td>\n",
       "      <td>Mailed check</td>\n",
       "      <td>21-50</td>\n",
       "      <td>41-60</td>\n",
       "      <td>Other</td>\n",
       "      <td>2</td>\n",
       "      <td>No</td>\n",
       "    </tr>\n",
       "    <tr>\n",
       "      <th>3668-QPYBK</th>\n",
       "      <td>Male</td>\n",
       "      <td>No</td>\n",
       "      <td>No</td>\n",
       "      <td>No</td>\n",
       "      <td>Yes</td>\n",
       "      <td>DSL</td>\n",
       "      <td>Yes</td>\n",
       "      <td>Yes</td>\n",
       "      <td>No</td>\n",
       "      <td>No</td>\n",
       "      <td>No</td>\n",
       "      <td>No</td>\n",
       "      <td>Month-to-month</td>\n",
       "      <td>Yes</td>\n",
       "      <td>Mailed check</td>\n",
       "      <td>0-20</td>\n",
       "      <td>41-60</td>\n",
       "      <td>Other</td>\n",
       "      <td>2</td>\n",
       "      <td>Yes</td>\n",
       "    </tr>\n",
       "    <tr>\n",
       "      <th>7795-CFOCW</th>\n",
       "      <td>Male</td>\n",
       "      <td>No</td>\n",
       "      <td>No</td>\n",
       "      <td>No</td>\n",
       "      <td>No</td>\n",
       "      <td>DSL</td>\n",
       "      <td>Yes</td>\n",
       "      <td>No</td>\n",
       "      <td>Yes</td>\n",
       "      <td>Yes</td>\n",
       "      <td>No</td>\n",
       "      <td>No</td>\n",
       "      <td>One year</td>\n",
       "      <td>No</td>\n",
       "      <td>Bank transfer (automatic)</td>\n",
       "      <td>21-50</td>\n",
       "      <td>41-60</td>\n",
       "      <td>Other</td>\n",
       "      <td>3</td>\n",
       "      <td>No</td>\n",
       "    </tr>\n",
       "    <tr>\n",
       "      <th>9237-HQITU</th>\n",
       "      <td>Female</td>\n",
       "      <td>No</td>\n",
       "      <td>No</td>\n",
       "      <td>No</td>\n",
       "      <td>Yes</td>\n",
       "      <td>Fiber optic</td>\n",
       "      <td>No</td>\n",
       "      <td>No</td>\n",
       "      <td>No</td>\n",
       "      <td>No</td>\n",
       "      <td>No</td>\n",
       "      <td>No</td>\n",
       "      <td>Month-to-month</td>\n",
       "      <td>Yes</td>\n",
       "      <td>Electronic check</td>\n",
       "      <td>0-20</td>\n",
       "      <td>60+</td>\n",
       "      <td>Other</td>\n",
       "      <td>0</td>\n",
       "      <td>Yes</td>\n",
       "    </tr>\n",
       "  </tbody>\n",
       "</table>\n",
       "</div>"
      ],
      "text/plain": [
       "            Gender SeniorCitizen Partner Dependents PhoneService  \\\n",
       "customerID                                                         \n",
       "7590-VHVEG  Female            No     Yes         No           No   \n",
       "5575-GNVDE    Male            No      No         No          Yes   \n",
       "3668-QPYBK    Male            No      No         No          Yes   \n",
       "7795-CFOCW    Male            No      No         No           No   \n",
       "9237-HQITU  Female            No      No         No          Yes   \n",
       "\n",
       "           InternetService OnlineSecurity OnlineBackup DeviceProtection  \\\n",
       "customerID                                                                \n",
       "7590-VHVEG             DSL             No          Yes               No   \n",
       "5575-GNVDE             DSL            Yes           No              Yes   \n",
       "3668-QPYBK             DSL            Yes          Yes               No   \n",
       "7795-CFOCW             DSL            Yes           No              Yes   \n",
       "9237-HQITU     Fiber optic             No           No               No   \n",
       "\n",
       "           TechSupport StreamingTV StreamingMovies        Contract  \\\n",
       "customerID                                                           \n",
       "7590-VHVEG          No          No              No  Month-to-month   \n",
       "5575-GNVDE          No          No              No        One year   \n",
       "3668-QPYBK          No          No              No  Month-to-month   \n",
       "7795-CFOCW         Yes          No              No        One year   \n",
       "9237-HQITU          No          No              No  Month-to-month   \n",
       "\n",
       "           PaperlessBilling              PaymentMethod TenureBuckets  \\\n",
       "customerID                                                             \n",
       "7590-VHVEG              Yes           Electronic check          0-20   \n",
       "5575-GNVDE               No               Mailed check         21-50   \n",
       "3668-QPYBK              Yes               Mailed check          0-20   \n",
       "7795-CFOCW               No  Bank transfer (automatic)         21-50   \n",
       "9237-HQITU              Yes           Electronic check          0-20   \n",
       "\n",
       "           MonthlyChargesBuckets MultipleLinesBuckets  NumInternetlServices  \\\n",
       "customerID                                                                    \n",
       "7590-VHVEG                  0-40                Other                     1   \n",
       "5575-GNVDE                 41-60                Other                     2   \n",
       "3668-QPYBK                 41-60                Other                     2   \n",
       "7795-CFOCW                 41-60                Other                     3   \n",
       "9237-HQITU                   60+                Other                     0   \n",
       "\n",
       "           Churn  \n",
       "customerID        \n",
       "7590-VHVEG    No  \n",
       "5575-GNVDE    No  \n",
       "3668-QPYBK   Yes  \n",
       "7795-CFOCW    No  \n",
       "9237-HQITU   Yes  "
      ]
     },
     "execution_count": 5,
     "metadata": {},
     "output_type": "execute_result"
    }
   ],
   "source": [
    "dataset.head()"
   ]
  },
  {
   "cell_type": "code",
   "execution_count": 6,
   "id": "7fd7960f",
   "metadata": {},
   "outputs": [
    {
     "data": {
      "text/plain": [
       "(7043, 20)"
      ]
     },
     "execution_count": 6,
     "metadata": {},
     "output_type": "execute_result"
    }
   ],
   "source": [
    "dataset.shape"
   ]
  },
  {
   "cell_type": "code",
   "execution_count": 7,
   "id": "fee3c536",
   "metadata": {},
   "outputs": [
    {
     "name": "stdout",
     "output_type": "stream",
     "text": [
      "Data for Modeling: (6339, 20)\n",
      "Unseen Data For Final Validation (704, 20)\n"
     ]
    }
   ],
   "source": [
    "data = dataset.sample(frac=0.9, random_state=45)\n",
    "data_validation = dataset.drop(data.index)\n",
    "\n",
    "data.reset_index(inplace=True, drop=True)\n",
    "data_validation.reset_index(inplace=True, drop=True)\n",
    "\n",
    "print('Data for Modeling: ' + str(data.shape))\n",
    "print('Unseen Data For Final Validation ' + str(data_validation.shape))"
   ]
  },
  {
   "cell_type": "markdown",
   "id": "6dfe3ef2",
   "metadata": {},
   "source": [
    "### Building a model"
   ]
  },
  {
   "cell_type": "markdown",
   "id": "090e4540",
   "metadata": {},
   "source": [
    "To quickly iterate through various models i will use the [PyCaret](https://pycaret.org) library. It is an open-source, low-code machine learning library in Python that automates machine learning workflows."
   ]
  },
  {
   "cell_type": "markdown",
   "id": "35ac96e7",
   "metadata": {},
   "source": [
    "The kind of a model that suits our case is a binary classification model."
   ]
  },
  {
   "cell_type": "code",
   "execution_count": 8,
   "id": "c17f47e3",
   "metadata": {},
   "outputs": [],
   "source": [
    "from pycaret.classification import *"
   ]
  },
  {
   "cell_type": "markdown",
   "id": "296f8b64-78c1-43fe-94eb-b12ebcc2bfe2",
   "metadata": {},
   "source": [
    "Initialize the training environment and create the transformation pipeline."
   ]
  },
  {
   "cell_type": "code",
   "execution_count": 9,
   "id": "3a01917a",
   "metadata": {},
   "outputs": [
    {
     "data": {
      "text/html": [
       "<style type=\"text/css\">\n",
       "#T_69436_row29_col1, #T_69436_row56_col1 {\n",
       "  background-color: lightgreen;\n",
       "}\n",
       "</style>\n",
       "<table id=\"T_69436_\">\n",
       "  <thead>\n",
       "    <tr>\n",
       "      <th class=\"blank level0\" >&nbsp;</th>\n",
       "      <th class=\"col_heading level0 col0\" >Description</th>\n",
       "      <th class=\"col_heading level0 col1\" >Value</th>\n",
       "    </tr>\n",
       "  </thead>\n",
       "  <tbody>\n",
       "    <tr>\n",
       "      <th id=\"T_69436_level0_row0\" class=\"row_heading level0 row0\" >0</th>\n",
       "      <td id=\"T_69436_row0_col0\" class=\"data row0 col0\" >session_id</td>\n",
       "      <td id=\"T_69436_row0_col1\" class=\"data row0 col1\" >7106</td>\n",
       "    </tr>\n",
       "    <tr>\n",
       "      <th id=\"T_69436_level0_row1\" class=\"row_heading level0 row1\" >1</th>\n",
       "      <td id=\"T_69436_row1_col0\" class=\"data row1 col0\" >Target</td>\n",
       "      <td id=\"T_69436_row1_col1\" class=\"data row1 col1\" >Churn</td>\n",
       "    </tr>\n",
       "    <tr>\n",
       "      <th id=\"T_69436_level0_row2\" class=\"row_heading level0 row2\" >2</th>\n",
       "      <td id=\"T_69436_row2_col0\" class=\"data row2 col0\" >Target Type</td>\n",
       "      <td id=\"T_69436_row2_col1\" class=\"data row2 col1\" >Binary</td>\n",
       "    </tr>\n",
       "    <tr>\n",
       "      <th id=\"T_69436_level0_row3\" class=\"row_heading level0 row3\" >3</th>\n",
       "      <td id=\"T_69436_row3_col0\" class=\"data row3 col0\" >Label Encoded</td>\n",
       "      <td id=\"T_69436_row3_col1\" class=\"data row3 col1\" >No: 0, Yes: 1</td>\n",
       "    </tr>\n",
       "    <tr>\n",
       "      <th id=\"T_69436_level0_row4\" class=\"row_heading level0 row4\" >4</th>\n",
       "      <td id=\"T_69436_row4_col0\" class=\"data row4 col0\" >Original Data</td>\n",
       "      <td id=\"T_69436_row4_col1\" class=\"data row4 col1\" >(6339, 20)</td>\n",
       "    </tr>\n",
       "    <tr>\n",
       "      <th id=\"T_69436_level0_row5\" class=\"row_heading level0 row5\" >5</th>\n",
       "      <td id=\"T_69436_row5_col0\" class=\"data row5 col0\" >Missing Values</td>\n",
       "      <td id=\"T_69436_row5_col1\" class=\"data row5 col1\" >False</td>\n",
       "    </tr>\n",
       "    <tr>\n",
       "      <th id=\"T_69436_level0_row6\" class=\"row_heading level0 row6\" >6</th>\n",
       "      <td id=\"T_69436_row6_col0\" class=\"data row6 col0\" >Numeric Features</td>\n",
       "      <td id=\"T_69436_row6_col1\" class=\"data row6 col1\" >1</td>\n",
       "    </tr>\n",
       "    <tr>\n",
       "      <th id=\"T_69436_level0_row7\" class=\"row_heading level0 row7\" >7</th>\n",
       "      <td id=\"T_69436_row7_col0\" class=\"data row7 col0\" >Categorical Features</td>\n",
       "      <td id=\"T_69436_row7_col1\" class=\"data row7 col1\" >18</td>\n",
       "    </tr>\n",
       "    <tr>\n",
       "      <th id=\"T_69436_level0_row8\" class=\"row_heading level0 row8\" >8</th>\n",
       "      <td id=\"T_69436_row8_col0\" class=\"data row8 col0\" >Ordinal Features</td>\n",
       "      <td id=\"T_69436_row8_col1\" class=\"data row8 col1\" >False</td>\n",
       "    </tr>\n",
       "    <tr>\n",
       "      <th id=\"T_69436_level0_row9\" class=\"row_heading level0 row9\" >9</th>\n",
       "      <td id=\"T_69436_row9_col0\" class=\"data row9 col0\" >High Cardinality Features</td>\n",
       "      <td id=\"T_69436_row9_col1\" class=\"data row9 col1\" >False</td>\n",
       "    </tr>\n",
       "    <tr>\n",
       "      <th id=\"T_69436_level0_row10\" class=\"row_heading level0 row10\" >10</th>\n",
       "      <td id=\"T_69436_row10_col0\" class=\"data row10 col0\" >High Cardinality Method</td>\n",
       "      <td id=\"T_69436_row10_col1\" class=\"data row10 col1\" >None</td>\n",
       "    </tr>\n",
       "    <tr>\n",
       "      <th id=\"T_69436_level0_row11\" class=\"row_heading level0 row11\" >11</th>\n",
       "      <td id=\"T_69436_row11_col0\" class=\"data row11 col0\" >Transformed Train Set</td>\n",
       "      <td id=\"T_69436_row11_col1\" class=\"data row11 col1\" >(5071, 36)</td>\n",
       "    </tr>\n",
       "    <tr>\n",
       "      <th id=\"T_69436_level0_row12\" class=\"row_heading level0 row12\" >12</th>\n",
       "      <td id=\"T_69436_row12_col0\" class=\"data row12 col0\" >Transformed Test Set</td>\n",
       "      <td id=\"T_69436_row12_col1\" class=\"data row12 col1\" >(1268, 36)</td>\n",
       "    </tr>\n",
       "    <tr>\n",
       "      <th id=\"T_69436_level0_row13\" class=\"row_heading level0 row13\" >13</th>\n",
       "      <td id=\"T_69436_row13_col0\" class=\"data row13 col0\" >Shuffle Train-Test</td>\n",
       "      <td id=\"T_69436_row13_col1\" class=\"data row13 col1\" >True</td>\n",
       "    </tr>\n",
       "    <tr>\n",
       "      <th id=\"T_69436_level0_row14\" class=\"row_heading level0 row14\" >14</th>\n",
       "      <td id=\"T_69436_row14_col0\" class=\"data row14 col0\" >Stratify Train-Test</td>\n",
       "      <td id=\"T_69436_row14_col1\" class=\"data row14 col1\" >False</td>\n",
       "    </tr>\n",
       "    <tr>\n",
       "      <th id=\"T_69436_level0_row15\" class=\"row_heading level0 row15\" >15</th>\n",
       "      <td id=\"T_69436_row15_col0\" class=\"data row15 col0\" >Fold Generator</td>\n",
       "      <td id=\"T_69436_row15_col1\" class=\"data row15 col1\" >StratifiedKFold</td>\n",
       "    </tr>\n",
       "    <tr>\n",
       "      <th id=\"T_69436_level0_row16\" class=\"row_heading level0 row16\" >16</th>\n",
       "      <td id=\"T_69436_row16_col0\" class=\"data row16 col0\" >Fold Number</td>\n",
       "      <td id=\"T_69436_row16_col1\" class=\"data row16 col1\" >5</td>\n",
       "    </tr>\n",
       "    <tr>\n",
       "      <th id=\"T_69436_level0_row17\" class=\"row_heading level0 row17\" >17</th>\n",
       "      <td id=\"T_69436_row17_col0\" class=\"data row17 col0\" >CPU Jobs</td>\n",
       "      <td id=\"T_69436_row17_col1\" class=\"data row17 col1\" >5</td>\n",
       "    </tr>\n",
       "    <tr>\n",
       "      <th id=\"T_69436_level0_row18\" class=\"row_heading level0 row18\" >18</th>\n",
       "      <td id=\"T_69436_row18_col0\" class=\"data row18 col0\" >Use GPU</td>\n",
       "      <td id=\"T_69436_row18_col1\" class=\"data row18 col1\" >False</td>\n",
       "    </tr>\n",
       "    <tr>\n",
       "      <th id=\"T_69436_level0_row19\" class=\"row_heading level0 row19\" >19</th>\n",
       "      <td id=\"T_69436_row19_col0\" class=\"data row19 col0\" >Log Experiment</td>\n",
       "      <td id=\"T_69436_row19_col1\" class=\"data row19 col1\" >False</td>\n",
       "    </tr>\n",
       "    <tr>\n",
       "      <th id=\"T_69436_level0_row20\" class=\"row_heading level0 row20\" >20</th>\n",
       "      <td id=\"T_69436_row20_col0\" class=\"data row20 col0\" >Experiment Name</td>\n",
       "      <td id=\"T_69436_row20_col1\" class=\"data row20 col1\" >clf-default-name</td>\n",
       "    </tr>\n",
       "    <tr>\n",
       "      <th id=\"T_69436_level0_row21\" class=\"row_heading level0 row21\" >21</th>\n",
       "      <td id=\"T_69436_row21_col0\" class=\"data row21 col0\" >USI</td>\n",
       "      <td id=\"T_69436_row21_col1\" class=\"data row21 col1\" >ae09</td>\n",
       "    </tr>\n",
       "    <tr>\n",
       "      <th id=\"T_69436_level0_row22\" class=\"row_heading level0 row22\" >22</th>\n",
       "      <td id=\"T_69436_row22_col0\" class=\"data row22 col0\" >Imputation Type</td>\n",
       "      <td id=\"T_69436_row22_col1\" class=\"data row22 col1\" >simple</td>\n",
       "    </tr>\n",
       "    <tr>\n",
       "      <th id=\"T_69436_level0_row23\" class=\"row_heading level0 row23\" >23</th>\n",
       "      <td id=\"T_69436_row23_col0\" class=\"data row23 col0\" >Iterative Imputation Iteration</td>\n",
       "      <td id=\"T_69436_row23_col1\" class=\"data row23 col1\" >None</td>\n",
       "    </tr>\n",
       "    <tr>\n",
       "      <th id=\"T_69436_level0_row24\" class=\"row_heading level0 row24\" >24</th>\n",
       "      <td id=\"T_69436_row24_col0\" class=\"data row24 col0\" >Numeric Imputer</td>\n",
       "      <td id=\"T_69436_row24_col1\" class=\"data row24 col1\" >mean</td>\n",
       "    </tr>\n",
       "    <tr>\n",
       "      <th id=\"T_69436_level0_row25\" class=\"row_heading level0 row25\" >25</th>\n",
       "      <td id=\"T_69436_row25_col0\" class=\"data row25 col0\" >Iterative Imputation Numeric Model</td>\n",
       "      <td id=\"T_69436_row25_col1\" class=\"data row25 col1\" >None</td>\n",
       "    </tr>\n",
       "    <tr>\n",
       "      <th id=\"T_69436_level0_row26\" class=\"row_heading level0 row26\" >26</th>\n",
       "      <td id=\"T_69436_row26_col0\" class=\"data row26 col0\" >Categorical Imputer</td>\n",
       "      <td id=\"T_69436_row26_col1\" class=\"data row26 col1\" >constant</td>\n",
       "    </tr>\n",
       "    <tr>\n",
       "      <th id=\"T_69436_level0_row27\" class=\"row_heading level0 row27\" >27</th>\n",
       "      <td id=\"T_69436_row27_col0\" class=\"data row27 col0\" >Iterative Imputation Categorical Model</td>\n",
       "      <td id=\"T_69436_row27_col1\" class=\"data row27 col1\" >None</td>\n",
       "    </tr>\n",
       "    <tr>\n",
       "      <th id=\"T_69436_level0_row28\" class=\"row_heading level0 row28\" >28</th>\n",
       "      <td id=\"T_69436_row28_col0\" class=\"data row28 col0\" >Unknown Categoricals Handling</td>\n",
       "      <td id=\"T_69436_row28_col1\" class=\"data row28 col1\" >least_frequent</td>\n",
       "    </tr>\n",
       "    <tr>\n",
       "      <th id=\"T_69436_level0_row29\" class=\"row_heading level0 row29\" >29</th>\n",
       "      <td id=\"T_69436_row29_col0\" class=\"data row29 col0\" >Normalize</td>\n",
       "      <td id=\"T_69436_row29_col1\" class=\"data row29 col1\" >True</td>\n",
       "    </tr>\n",
       "    <tr>\n",
       "      <th id=\"T_69436_level0_row30\" class=\"row_heading level0 row30\" >30</th>\n",
       "      <td id=\"T_69436_row30_col0\" class=\"data row30 col0\" >Normalize Method</td>\n",
       "      <td id=\"T_69436_row30_col1\" class=\"data row30 col1\" >zscore</td>\n",
       "    </tr>\n",
       "    <tr>\n",
       "      <th id=\"T_69436_level0_row31\" class=\"row_heading level0 row31\" >31</th>\n",
       "      <td id=\"T_69436_row31_col0\" class=\"data row31 col0\" >Transformation</td>\n",
       "      <td id=\"T_69436_row31_col1\" class=\"data row31 col1\" >False</td>\n",
       "    </tr>\n",
       "    <tr>\n",
       "      <th id=\"T_69436_level0_row32\" class=\"row_heading level0 row32\" >32</th>\n",
       "      <td id=\"T_69436_row32_col0\" class=\"data row32 col0\" >Transformation Method</td>\n",
       "      <td id=\"T_69436_row32_col1\" class=\"data row32 col1\" >None</td>\n",
       "    </tr>\n",
       "    <tr>\n",
       "      <th id=\"T_69436_level0_row33\" class=\"row_heading level0 row33\" >33</th>\n",
       "      <td id=\"T_69436_row33_col0\" class=\"data row33 col0\" >PCA</td>\n",
       "      <td id=\"T_69436_row33_col1\" class=\"data row33 col1\" >False</td>\n",
       "    </tr>\n",
       "    <tr>\n",
       "      <th id=\"T_69436_level0_row34\" class=\"row_heading level0 row34\" >34</th>\n",
       "      <td id=\"T_69436_row34_col0\" class=\"data row34 col0\" >PCA Method</td>\n",
       "      <td id=\"T_69436_row34_col1\" class=\"data row34 col1\" >None</td>\n",
       "    </tr>\n",
       "    <tr>\n",
       "      <th id=\"T_69436_level0_row35\" class=\"row_heading level0 row35\" >35</th>\n",
       "      <td id=\"T_69436_row35_col0\" class=\"data row35 col0\" >PCA Components</td>\n",
       "      <td id=\"T_69436_row35_col1\" class=\"data row35 col1\" >None</td>\n",
       "    </tr>\n",
       "    <tr>\n",
       "      <th id=\"T_69436_level0_row36\" class=\"row_heading level0 row36\" >36</th>\n",
       "      <td id=\"T_69436_row36_col0\" class=\"data row36 col0\" >Ignore Low Variance</td>\n",
       "      <td id=\"T_69436_row36_col1\" class=\"data row36 col1\" >False</td>\n",
       "    </tr>\n",
       "    <tr>\n",
       "      <th id=\"T_69436_level0_row37\" class=\"row_heading level0 row37\" >37</th>\n",
       "      <td id=\"T_69436_row37_col0\" class=\"data row37 col0\" >Combine Rare Levels</td>\n",
       "      <td id=\"T_69436_row37_col1\" class=\"data row37 col1\" >False</td>\n",
       "    </tr>\n",
       "    <tr>\n",
       "      <th id=\"T_69436_level0_row38\" class=\"row_heading level0 row38\" >38</th>\n",
       "      <td id=\"T_69436_row38_col0\" class=\"data row38 col0\" >Rare Level Threshold</td>\n",
       "      <td id=\"T_69436_row38_col1\" class=\"data row38 col1\" >None</td>\n",
       "    </tr>\n",
       "    <tr>\n",
       "      <th id=\"T_69436_level0_row39\" class=\"row_heading level0 row39\" >39</th>\n",
       "      <td id=\"T_69436_row39_col0\" class=\"data row39 col0\" >Numeric Binning</td>\n",
       "      <td id=\"T_69436_row39_col1\" class=\"data row39 col1\" >False</td>\n",
       "    </tr>\n",
       "    <tr>\n",
       "      <th id=\"T_69436_level0_row40\" class=\"row_heading level0 row40\" >40</th>\n",
       "      <td id=\"T_69436_row40_col0\" class=\"data row40 col0\" >Remove Outliers</td>\n",
       "      <td id=\"T_69436_row40_col1\" class=\"data row40 col1\" >False</td>\n",
       "    </tr>\n",
       "    <tr>\n",
       "      <th id=\"T_69436_level0_row41\" class=\"row_heading level0 row41\" >41</th>\n",
       "      <td id=\"T_69436_row41_col0\" class=\"data row41 col0\" >Outliers Threshold</td>\n",
       "      <td id=\"T_69436_row41_col1\" class=\"data row41 col1\" >None</td>\n",
       "    </tr>\n",
       "    <tr>\n",
       "      <th id=\"T_69436_level0_row42\" class=\"row_heading level0 row42\" >42</th>\n",
       "      <td id=\"T_69436_row42_col0\" class=\"data row42 col0\" >Remove Multicollinearity</td>\n",
       "      <td id=\"T_69436_row42_col1\" class=\"data row42 col1\" >False</td>\n",
       "    </tr>\n",
       "    <tr>\n",
       "      <th id=\"T_69436_level0_row43\" class=\"row_heading level0 row43\" >43</th>\n",
       "      <td id=\"T_69436_row43_col0\" class=\"data row43 col0\" >Multicollinearity Threshold</td>\n",
       "      <td id=\"T_69436_row43_col1\" class=\"data row43 col1\" >None</td>\n",
       "    </tr>\n",
       "    <tr>\n",
       "      <th id=\"T_69436_level0_row44\" class=\"row_heading level0 row44\" >44</th>\n",
       "      <td id=\"T_69436_row44_col0\" class=\"data row44 col0\" >Clustering</td>\n",
       "      <td id=\"T_69436_row44_col1\" class=\"data row44 col1\" >False</td>\n",
       "    </tr>\n",
       "    <tr>\n",
       "      <th id=\"T_69436_level0_row45\" class=\"row_heading level0 row45\" >45</th>\n",
       "      <td id=\"T_69436_row45_col0\" class=\"data row45 col0\" >Clustering Iteration</td>\n",
       "      <td id=\"T_69436_row45_col1\" class=\"data row45 col1\" >None</td>\n",
       "    </tr>\n",
       "    <tr>\n",
       "      <th id=\"T_69436_level0_row46\" class=\"row_heading level0 row46\" >46</th>\n",
       "      <td id=\"T_69436_row46_col0\" class=\"data row46 col0\" >Polynomial Features</td>\n",
       "      <td id=\"T_69436_row46_col1\" class=\"data row46 col1\" >False</td>\n",
       "    </tr>\n",
       "    <tr>\n",
       "      <th id=\"T_69436_level0_row47\" class=\"row_heading level0 row47\" >47</th>\n",
       "      <td id=\"T_69436_row47_col0\" class=\"data row47 col0\" >Polynomial Degree</td>\n",
       "      <td id=\"T_69436_row47_col1\" class=\"data row47 col1\" >None</td>\n",
       "    </tr>\n",
       "    <tr>\n",
       "      <th id=\"T_69436_level0_row48\" class=\"row_heading level0 row48\" >48</th>\n",
       "      <td id=\"T_69436_row48_col0\" class=\"data row48 col0\" >Trignometry Features</td>\n",
       "      <td id=\"T_69436_row48_col1\" class=\"data row48 col1\" >False</td>\n",
       "    </tr>\n",
       "    <tr>\n",
       "      <th id=\"T_69436_level0_row49\" class=\"row_heading level0 row49\" >49</th>\n",
       "      <td id=\"T_69436_row49_col0\" class=\"data row49 col0\" >Polynomial Threshold</td>\n",
       "      <td id=\"T_69436_row49_col1\" class=\"data row49 col1\" >None</td>\n",
       "    </tr>\n",
       "    <tr>\n",
       "      <th id=\"T_69436_level0_row50\" class=\"row_heading level0 row50\" >50</th>\n",
       "      <td id=\"T_69436_row50_col0\" class=\"data row50 col0\" >Group Features</td>\n",
       "      <td id=\"T_69436_row50_col1\" class=\"data row50 col1\" >False</td>\n",
       "    </tr>\n",
       "    <tr>\n",
       "      <th id=\"T_69436_level0_row51\" class=\"row_heading level0 row51\" >51</th>\n",
       "      <td id=\"T_69436_row51_col0\" class=\"data row51 col0\" >Feature Selection</td>\n",
       "      <td id=\"T_69436_row51_col1\" class=\"data row51 col1\" >False</td>\n",
       "    </tr>\n",
       "    <tr>\n",
       "      <th id=\"T_69436_level0_row52\" class=\"row_heading level0 row52\" >52</th>\n",
       "      <td id=\"T_69436_row52_col0\" class=\"data row52 col0\" >Features Selection Threshold</td>\n",
       "      <td id=\"T_69436_row52_col1\" class=\"data row52 col1\" >None</td>\n",
       "    </tr>\n",
       "    <tr>\n",
       "      <th id=\"T_69436_level0_row53\" class=\"row_heading level0 row53\" >53</th>\n",
       "      <td id=\"T_69436_row53_col0\" class=\"data row53 col0\" >Feature Interaction</td>\n",
       "      <td id=\"T_69436_row53_col1\" class=\"data row53 col1\" >False</td>\n",
       "    </tr>\n",
       "    <tr>\n",
       "      <th id=\"T_69436_level0_row54\" class=\"row_heading level0 row54\" >54</th>\n",
       "      <td id=\"T_69436_row54_col0\" class=\"data row54 col0\" >Feature Ratio</td>\n",
       "      <td id=\"T_69436_row54_col1\" class=\"data row54 col1\" >False</td>\n",
       "    </tr>\n",
       "    <tr>\n",
       "      <th id=\"T_69436_level0_row55\" class=\"row_heading level0 row55\" >55</th>\n",
       "      <td id=\"T_69436_row55_col0\" class=\"data row55 col0\" >Interaction Threshold</td>\n",
       "      <td id=\"T_69436_row55_col1\" class=\"data row55 col1\" >None</td>\n",
       "    </tr>\n",
       "    <tr>\n",
       "      <th id=\"T_69436_level0_row56\" class=\"row_heading level0 row56\" >56</th>\n",
       "      <td id=\"T_69436_row56_col0\" class=\"data row56 col0\" >Fix Imbalance</td>\n",
       "      <td id=\"T_69436_row56_col1\" class=\"data row56 col1\" >True</td>\n",
       "    </tr>\n",
       "    <tr>\n",
       "      <th id=\"T_69436_level0_row57\" class=\"row_heading level0 row57\" >57</th>\n",
       "      <td id=\"T_69436_row57_col0\" class=\"data row57 col0\" >Fix Imbalance Method</td>\n",
       "      <td id=\"T_69436_row57_col1\" class=\"data row57 col1\" >SMOTE</td>\n",
       "    </tr>\n",
       "  </tbody>\n",
       "</table>\n"
      ],
      "text/plain": [
       "<pandas.io.formats.style.Styler at 0x7ff9824a56a0>"
      ]
     },
     "metadata": {},
     "output_type": "display_data"
    }
   ],
   "source": [
    "setup(\n",
    "    data, \n",
    "    target='Churn',\n",
    "    n_jobs=5,\n",
    "    fold=5,\n",
    "    train_size=0.8,\n",
    "    silent=True,\n",
    "    numeric_features=['NumInternetlServices'],\n",
    "    normalize=True,\n",
    "    fix_imbalance=True,\n",
    ");"
   ]
  },
  {
   "cell_type": "markdown",
   "id": "d088a8f5-e0c7-4d98-956c-52807dc14527",
   "metadata": {},
   "source": [
    "Compare various models."
   ]
  },
  {
   "cell_type": "code",
   "execution_count": 43,
   "id": "92449c43-5912-4b8d-9d37-732b533e7d12",
   "metadata": {},
   "outputs": [
    {
     "data": {
      "text/html": [
       "<style type=\"text/css\">\n",
       "#T_e7f20_ th {\n",
       "  text-align: left;\n",
       "}\n",
       "#T_e7f20_row0_col0, #T_e7f20_row0_col1, #T_e7f20_row0_col3, #T_e7f20_row0_col4, #T_e7f20_row0_col6, #T_e7f20_row1_col0, #T_e7f20_row1_col2, #T_e7f20_row1_col3, #T_e7f20_row1_col5, #T_e7f20_row1_col7, #T_e7f20_row2_col0, #T_e7f20_row2_col1, #T_e7f20_row2_col2, #T_e7f20_row2_col4, #T_e7f20_row2_col5, #T_e7f20_row2_col6, #T_e7f20_row2_col7, #T_e7f20_row3_col0, #T_e7f20_row3_col1, #T_e7f20_row3_col2, #T_e7f20_row3_col3, #T_e7f20_row3_col4, #T_e7f20_row3_col5, #T_e7f20_row3_col6, #T_e7f20_row3_col7, #T_e7f20_row4_col0, #T_e7f20_row4_col1, #T_e7f20_row4_col2, #T_e7f20_row4_col3, #T_e7f20_row4_col4, #T_e7f20_row4_col5, #T_e7f20_row4_col6, #T_e7f20_row4_col7 {\n",
       "  text-align: left;\n",
       "}\n",
       "#T_e7f20_row0_col2, #T_e7f20_row0_col5, #T_e7f20_row0_col7, #T_e7f20_row1_col1, #T_e7f20_row1_col4, #T_e7f20_row1_col6, #T_e7f20_row2_col3 {\n",
       "  text-align: left;\n",
       "  background-color: yellow;\n",
       "}\n",
       "#T_e7f20_row0_col8, #T_e7f20_row1_col8, #T_e7f20_row3_col8, #T_e7f20_row4_col8 {\n",
       "  text-align: left;\n",
       "  background-color: lightgrey;\n",
       "}\n",
       "#T_e7f20_row2_col8 {\n",
       "  text-align: left;\n",
       "  background-color: yellow;\n",
       "  background-color: lightgrey;\n",
       "}\n",
       "</style>\n",
       "<table id=\"T_e7f20_\">\n",
       "  <thead>\n",
       "    <tr>\n",
       "      <th class=\"blank level0\" >&nbsp;</th>\n",
       "      <th class=\"col_heading level0 col0\" >Model</th>\n",
       "      <th class=\"col_heading level0 col1\" >Accuracy</th>\n",
       "      <th class=\"col_heading level0 col2\" >AUC</th>\n",
       "      <th class=\"col_heading level0 col3\" >Recall</th>\n",
       "      <th class=\"col_heading level0 col4\" >Prec.</th>\n",
       "      <th class=\"col_heading level0 col5\" >F1</th>\n",
       "      <th class=\"col_heading level0 col6\" >Kappa</th>\n",
       "      <th class=\"col_heading level0 col7\" >MCC</th>\n",
       "      <th class=\"col_heading level0 col8\" >TT (Sec)</th>\n",
       "    </tr>\n",
       "  </thead>\n",
       "  <tbody>\n",
       "    <tr>\n",
       "      <th id=\"T_e7f20_level0_row0\" class=\"row_heading level0 row0\" >lr</th>\n",
       "      <td id=\"T_e7f20_row0_col0\" class=\"data row0 col0\" >Logistic Regression</td>\n",
       "      <td id=\"T_e7f20_row0_col1\" class=\"data row0 col1\" >0.7503</td>\n",
       "      <td id=\"T_e7f20_row0_col2\" class=\"data row0 col2\" >0.8421</td>\n",
       "      <td id=\"T_e7f20_row0_col3\" class=\"data row0 col3\" >0.7873</td>\n",
       "      <td id=\"T_e7f20_row0_col4\" class=\"data row0 col4\" >0.5220</td>\n",
       "      <td id=\"T_e7f20_row0_col5\" class=\"data row0 col5\" >0.6275</td>\n",
       "      <td id=\"T_e7f20_row0_col6\" class=\"data row0 col6\" >0.4513</td>\n",
       "      <td id=\"T_e7f20_row0_col7\" class=\"data row0 col7\" >0.4731</td>\n",
       "      <td id=\"T_e7f20_row0_col8\" class=\"data row0 col8\" >0.0500</td>\n",
       "    </tr>\n",
       "    <tr>\n",
       "      <th id=\"T_e7f20_level0_row1\" class=\"row_heading level0 row1\" >svm</th>\n",
       "      <td id=\"T_e7f20_row1_col0\" class=\"data row1 col0\" >SVM - Linear Kernel</td>\n",
       "      <td id=\"T_e7f20_row1_col1\" class=\"data row1 col1\" >0.7606</td>\n",
       "      <td id=\"T_e7f20_row1_col2\" class=\"data row1 col2\" >0.0000</td>\n",
       "      <td id=\"T_e7f20_row1_col3\" class=\"data row1 col3\" >0.7518</td>\n",
       "      <td id=\"T_e7f20_row1_col4\" class=\"data row1 col4\" >0.5384</td>\n",
       "      <td id=\"T_e7f20_row1_col5\" class=\"data row1 col5\" >0.6265</td>\n",
       "      <td id=\"T_e7f20_row1_col6\" class=\"data row1 col6\" >0.4577</td>\n",
       "      <td id=\"T_e7f20_row1_col7\" class=\"data row1 col7\" >0.4725</td>\n",
       "      <td id=\"T_e7f20_row1_col8\" class=\"data row1 col8\" >0.0360</td>\n",
       "    </tr>\n",
       "    <tr>\n",
       "      <th id=\"T_e7f20_level0_row2\" class=\"row_heading level0 row2\" >ridge</th>\n",
       "      <td id=\"T_e7f20_row2_col0\" class=\"data row2 col0\" >Ridge Classifier</td>\n",
       "      <td id=\"T_e7f20_row2_col1\" class=\"data row2 col1\" >0.7440</td>\n",
       "      <td id=\"T_e7f20_row2_col2\" class=\"data row2 col2\" >0.0000</td>\n",
       "      <td id=\"T_e7f20_row2_col3\" class=\"data row2 col3\" >0.7991</td>\n",
       "      <td id=\"T_e7f20_row2_col4\" class=\"data row2 col4\" >0.5140</td>\n",
       "      <td id=\"T_e7f20_row2_col5\" class=\"data row2 col5\" >0.6253</td>\n",
       "      <td id=\"T_e7f20_row2_col6\" class=\"data row2 col6\" >0.4447</td>\n",
       "      <td id=\"T_e7f20_row2_col7\" class=\"data row2 col7\" >0.4699</td>\n",
       "      <td id=\"T_e7f20_row2_col8\" class=\"data row2 col8\" >0.0180</td>\n",
       "    </tr>\n",
       "    <tr>\n",
       "      <th id=\"T_e7f20_level0_row3\" class=\"row_heading level0 row3\" >knn</th>\n",
       "      <td id=\"T_e7f20_row3_col0\" class=\"data row3 col0\" >K Neighbors Classifier</td>\n",
       "      <td id=\"T_e7f20_row3_col1\" class=\"data row3 col1\" >0.7030</td>\n",
       "      <td id=\"T_e7f20_row3_col2\" class=\"data row3 col2\" >0.7536</td>\n",
       "      <td id=\"T_e7f20_row3_col3\" class=\"data row3 col3\" >0.7053</td>\n",
       "      <td id=\"T_e7f20_row3_col4\" class=\"data row3 col4\" >0.4634</td>\n",
       "      <td id=\"T_e7f20_row3_col5\" class=\"data row3 col5\" >0.5589</td>\n",
       "      <td id=\"T_e7f20_row3_col6\" class=\"data row3 col6\" >0.3494</td>\n",
       "      <td id=\"T_e7f20_row3_col7\" class=\"data row3 col7\" >0.3674</td>\n",
       "      <td id=\"T_e7f20_row3_col8\" class=\"data row3 col8\" >0.0860</td>\n",
       "    </tr>\n",
       "    <tr>\n",
       "      <th id=\"T_e7f20_level0_row4\" class=\"row_heading level0 row4\" >dt</th>\n",
       "      <td id=\"T_e7f20_row4_col0\" class=\"data row4 col0\" >Decision Tree Classifier</td>\n",
       "      <td id=\"T_e7f20_row4_col1\" class=\"data row4 col1\" >0.7235</td>\n",
       "      <td id=\"T_e7f20_row4_col2\" class=\"data row4 col2\" >0.6720</td>\n",
       "      <td id=\"T_e7f20_row4_col3\" class=\"data row4 col3\" >0.4904</td>\n",
       "      <td id=\"T_e7f20_row4_col4\" class=\"data row4 col4\" >0.4826</td>\n",
       "      <td id=\"T_e7f20_row4_col5\" class=\"data row4 col5\" >0.4862</td>\n",
       "      <td id=\"T_e7f20_row4_col6\" class=\"data row4 col6\" >0.2972</td>\n",
       "      <td id=\"T_e7f20_row4_col7\" class=\"data row4 col7\" >0.2973</td>\n",
       "      <td id=\"T_e7f20_row4_col8\" class=\"data row4 col8\" >0.0200</td>\n",
       "    </tr>\n",
       "  </tbody>\n",
       "</table>\n"
      ],
      "text/plain": [
       "<pandas.io.formats.style.Styler at 0x7ff978b08af0>"
      ]
     },
     "metadata": {},
     "output_type": "display_data"
    }
   ],
   "source": [
    "compare_models(include=['lr', 'svm', 'ridge', 'knn', 'dt'], sort='f1');"
   ]
  },
  {
   "cell_type": "markdown",
   "id": "81b80dc8-b3e0-4642-bb8d-4a7dfe517895",
   "metadata": {
    "tags": []
   },
   "source": [
    "### Tune the models"
   ]
  },
  {
   "cell_type": "markdown",
   "id": "82802c2f-b66f-4cc6-b50b-86af86e1698e",
   "metadata": {},
   "source": [
    "**Logisitc regression**"
   ]
  },
  {
   "cell_type": "code",
   "execution_count": 12,
   "id": "3b1f0bfb-3d67-4e4a-a41a-9d5b6657cda6",
   "metadata": {},
   "outputs": [
    {
     "data": {
      "text/html": [
       "<style type=\"text/css\">\n",
       "#T_47aef_row5_col0, #T_47aef_row5_col1, #T_47aef_row5_col2, #T_47aef_row5_col3, #T_47aef_row5_col4, #T_47aef_row5_col5, #T_47aef_row5_col6 {\n",
       "  background: yellow;\n",
       "}\n",
       "</style>\n",
       "<table id=\"T_47aef_\">\n",
       "  <thead>\n",
       "    <tr>\n",
       "      <th class=\"blank level0\" >&nbsp;</th>\n",
       "      <th class=\"col_heading level0 col0\" >Accuracy</th>\n",
       "      <th class=\"col_heading level0 col1\" >AUC</th>\n",
       "      <th class=\"col_heading level0 col2\" >Recall</th>\n",
       "      <th class=\"col_heading level0 col3\" >Prec.</th>\n",
       "      <th class=\"col_heading level0 col4\" >F1</th>\n",
       "      <th class=\"col_heading level0 col5\" >Kappa</th>\n",
       "      <th class=\"col_heading level0 col6\" >MCC</th>\n",
       "    </tr>\n",
       "  </thead>\n",
       "  <tbody>\n",
       "    <tr>\n",
       "      <th id=\"T_47aef_level0_row0\" class=\"row_heading level0 row0\" >0</th>\n",
       "      <td id=\"T_47aef_row0_col0\" class=\"data row0 col0\" >0.7517</td>\n",
       "      <td id=\"T_47aef_row0_col1\" class=\"data row0 col1\" >0.8496</td>\n",
       "      <td id=\"T_47aef_row0_col2\" class=\"data row0 col2\" >0.7565</td>\n",
       "      <td id=\"T_47aef_row0_col3\" class=\"data row0 col3\" >0.5243</td>\n",
       "      <td id=\"T_47aef_row0_col4\" class=\"data row0 col4\" >0.6193</td>\n",
       "      <td id=\"T_47aef_row0_col5\" class=\"data row0 col5\" >0.4440</td>\n",
       "      <td id=\"T_47aef_row0_col6\" class=\"data row0 col6\" >0.4604</td>\n",
       "    </tr>\n",
       "    <tr>\n",
       "      <th id=\"T_47aef_level0_row1\" class=\"row_heading level0 row1\" >1</th>\n",
       "      <td id=\"T_47aef_row1_col0\" class=\"data row1 col0\" >0.7623</td>\n",
       "      <td id=\"T_47aef_row1_col1\" class=\"data row1 col1\" >0.8369</td>\n",
       "      <td id=\"T_47aef_row1_col2\" class=\"data row1 col2\" >0.8111</td>\n",
       "      <td id=\"T_47aef_row1_col3\" class=\"data row1 col3\" >0.5355</td>\n",
       "      <td id=\"T_47aef_row1_col4\" class=\"data row1 col4\" >0.6451</td>\n",
       "      <td id=\"T_47aef_row1_col5\" class=\"data row1 col5\" >0.4774</td>\n",
       "      <td id=\"T_47aef_row1_col6\" class=\"data row1 col6\" >0.5007</td>\n",
       "    </tr>\n",
       "    <tr>\n",
       "      <th id=\"T_47aef_level0_row2\" class=\"row_heading level0 row2\" >2</th>\n",
       "      <td id=\"T_47aef_row2_col0\" class=\"data row2 col0\" >0.7594</td>\n",
       "      <td id=\"T_47aef_row2_col1\" class=\"data row2 col1\" >0.8577</td>\n",
       "      <td id=\"T_47aef_row2_col2\" class=\"data row2 col2\" >0.7860</td>\n",
       "      <td id=\"T_47aef_row2_col3\" class=\"data row2 col3\" >0.5338</td>\n",
       "      <td id=\"T_47aef_row2_col4\" class=\"data row2 col4\" >0.6358</td>\n",
       "      <td id=\"T_47aef_row2_col5\" class=\"data row2 col5\" >0.4658</td>\n",
       "      <td id=\"T_47aef_row2_col6\" class=\"data row2 col6\" >0.4852</td>\n",
       "    </tr>\n",
       "    <tr>\n",
       "      <th id=\"T_47aef_level0_row3\" class=\"row_heading level0 row3\" >3</th>\n",
       "      <td id=\"T_47aef_row3_col0\" class=\"data row3 col0\" >0.7288</td>\n",
       "      <td id=\"T_47aef_row3_col1\" class=\"data row3 col1\" >0.8377</td>\n",
       "      <td id=\"T_47aef_row3_col2\" class=\"data row3 col2\" >0.8081</td>\n",
       "      <td id=\"T_47aef_row3_col3\" class=\"data row3 col3\" >0.4955</td>\n",
       "      <td id=\"T_47aef_row3_col4\" class=\"data row3 col4\" >0.6143</td>\n",
       "      <td id=\"T_47aef_row3_col5\" class=\"data row3 col5\" >0.4232</td>\n",
       "      <td id=\"T_47aef_row3_col6\" class=\"data row3 col6\" >0.4533</td>\n",
       "    </tr>\n",
       "    <tr>\n",
       "      <th id=\"T_47aef_level0_row4\" class=\"row_heading level0 row4\" >4</th>\n",
       "      <td id=\"T_47aef_row4_col0\" class=\"data row4 col0\" >0.7495</td>\n",
       "      <td id=\"T_47aef_row4_col1\" class=\"data row4 col1\" >0.8289</td>\n",
       "      <td id=\"T_47aef_row4_col2\" class=\"data row4 col2\" >0.7749</td>\n",
       "      <td id=\"T_47aef_row4_col3\" class=\"data row4 col3\" >0.5211</td>\n",
       "      <td id=\"T_47aef_row4_col4\" class=\"data row4 col4\" >0.6231</td>\n",
       "      <td id=\"T_47aef_row4_col5\" class=\"data row4 col5\" >0.4461</td>\n",
       "      <td id=\"T_47aef_row4_col6\" class=\"data row4 col6\" >0.4658</td>\n",
       "    </tr>\n",
       "    <tr>\n",
       "      <th id=\"T_47aef_level0_row5\" class=\"row_heading level0 row5\" >Mean</th>\n",
       "      <td id=\"T_47aef_row5_col0\" class=\"data row5 col0\" >0.7503</td>\n",
       "      <td id=\"T_47aef_row5_col1\" class=\"data row5 col1\" >0.8421</td>\n",
       "      <td id=\"T_47aef_row5_col2\" class=\"data row5 col2\" >0.7873</td>\n",
       "      <td id=\"T_47aef_row5_col3\" class=\"data row5 col3\" >0.5220</td>\n",
       "      <td id=\"T_47aef_row5_col4\" class=\"data row5 col4\" >0.6275</td>\n",
       "      <td id=\"T_47aef_row5_col5\" class=\"data row5 col5\" >0.4513</td>\n",
       "      <td id=\"T_47aef_row5_col6\" class=\"data row5 col6\" >0.4731</td>\n",
       "    </tr>\n",
       "    <tr>\n",
       "      <th id=\"T_47aef_level0_row6\" class=\"row_heading level0 row6\" >SD</th>\n",
       "      <td id=\"T_47aef_row6_col0\" class=\"data row6 col0\" >0.0118</td>\n",
       "      <td id=\"T_47aef_row6_col1\" class=\"data row6 col1\" >0.0102</td>\n",
       "      <td id=\"T_47aef_row6_col2\" class=\"data row6 col2\" >0.0205</td>\n",
       "      <td id=\"T_47aef_row6_col3\" class=\"data row6 col3\" >0.0144</td>\n",
       "      <td id=\"T_47aef_row6_col4\" class=\"data row6 col4\" >0.0113</td>\n",
       "      <td id=\"T_47aef_row6_col5\" class=\"data row6 col5\" >0.0188</td>\n",
       "      <td id=\"T_47aef_row6_col6\" class=\"data row6 col6\" >0.0174</td>\n",
       "    </tr>\n",
       "  </tbody>\n",
       "</table>\n"
      ],
      "text/plain": [
       "<pandas.io.formats.style.Styler at 0x7ff95003c340>"
      ]
     },
     "metadata": {},
     "output_type": "display_data"
    }
   ],
   "source": [
    "lr = create_model('lr');"
   ]
  },
  {
   "cell_type": "code",
   "execution_count": 13,
   "id": "68932a68-2384-463f-aea5-cf06d5f157c2",
   "metadata": {},
   "outputs": [],
   "source": [
    "custom_grid = {\n",
    "    'fit_intercept': [True],\n",
    "    'solver': ['saga'],\n",
    "    'penalty': ['elasticnet'],\n",
    "    'C': np.logspace(0.0001, 4, num=50) / 100,\n",
    "    'class_weight': ['balanced'],\n",
    "    'dual': [False],\n",
    "    'max_iter': [1000],\n",
    "    'l1_ratio': [0, 0.05, 0.1, 0.25, 0.5, 0.75, 0.9, 0.95, 1]\n",
    "}"
   ]
  },
  {
   "cell_type": "code",
   "execution_count": 14,
   "id": "41cc8ce3-6502-4886-b071-110d0672ed36",
   "metadata": {},
   "outputs": [
    {
     "data": {
      "text/html": [
       "<style type=\"text/css\">\n",
       "#T_0c5ae_row5_col0, #T_0c5ae_row5_col1, #T_0c5ae_row5_col2, #T_0c5ae_row5_col3, #T_0c5ae_row5_col4, #T_0c5ae_row5_col5, #T_0c5ae_row5_col6 {\n",
       "  background: yellow;\n",
       "}\n",
       "</style>\n",
       "<table id=\"T_0c5ae_\">\n",
       "  <thead>\n",
       "    <tr>\n",
       "      <th class=\"blank level0\" >&nbsp;</th>\n",
       "      <th class=\"col_heading level0 col0\" >Accuracy</th>\n",
       "      <th class=\"col_heading level0 col1\" >AUC</th>\n",
       "      <th class=\"col_heading level0 col2\" >Recall</th>\n",
       "      <th class=\"col_heading level0 col3\" >Prec.</th>\n",
       "      <th class=\"col_heading level0 col4\" >F1</th>\n",
       "      <th class=\"col_heading level0 col5\" >Kappa</th>\n",
       "      <th class=\"col_heading level0 col6\" >MCC</th>\n",
       "    </tr>\n",
       "  </thead>\n",
       "  <tbody>\n",
       "    <tr>\n",
       "      <th id=\"T_0c5ae_level0_row0\" class=\"row_heading level0 row0\" >0</th>\n",
       "      <td id=\"T_0c5ae_row0_col0\" class=\"data row0 col0\" >0.7596</td>\n",
       "      <td id=\"T_0c5ae_row0_col1\" class=\"data row0 col1\" >0.8487</td>\n",
       "      <td id=\"T_0c5ae_row0_col2\" class=\"data row0 col2\" >0.7601</td>\n",
       "      <td id=\"T_0c5ae_row0_col3\" class=\"data row0 col3\" >0.5351</td>\n",
       "      <td id=\"T_0c5ae_row0_col4\" class=\"data row0 col4\" >0.6280</td>\n",
       "      <td id=\"T_0c5ae_row0_col5\" class=\"data row0 col5\" >0.4583</td>\n",
       "      <td id=\"T_0c5ae_row0_col6\" class=\"data row0 col6\" >0.4737</td>\n",
       "    </tr>\n",
       "    <tr>\n",
       "      <th id=\"T_0c5ae_level0_row1\" class=\"row_heading level0 row1\" >1</th>\n",
       "      <td id=\"T_0c5ae_row1_col0\" class=\"data row1 col0\" >0.7623</td>\n",
       "      <td id=\"T_0c5ae_row1_col1\" class=\"data row1 col1\" >0.8370</td>\n",
       "      <td id=\"T_0c5ae_row1_col2\" class=\"data row1 col2\" >0.8333</td>\n",
       "      <td id=\"T_0c5ae_row1_col3\" class=\"data row1 col3\" >0.5344</td>\n",
       "      <td id=\"T_0c5ae_row1_col4\" class=\"data row1 col4\" >0.6512</td>\n",
       "      <td id=\"T_0c5ae_row1_col5\" class=\"data row1 col5\" >0.4837</td>\n",
       "      <td id=\"T_0c5ae_row1_col6\" class=\"data row1 col6\" >0.5112</td>\n",
       "    </tr>\n",
       "    <tr>\n",
       "      <th id=\"T_0c5ae_level0_row2\" class=\"row_heading level0 row2\" >2</th>\n",
       "      <td id=\"T_0c5ae_row2_col0\" class=\"data row2 col0\" >0.7663</td>\n",
       "      <td id=\"T_0c5ae_row2_col1\" class=\"data row2 col1\" >0.8598</td>\n",
       "      <td id=\"T_0c5ae_row2_col2\" class=\"data row2 col2\" >0.8007</td>\n",
       "      <td id=\"T_0c5ae_row2_col3\" class=\"data row2 col3\" >0.5425</td>\n",
       "      <td id=\"T_0c5ae_row2_col4\" class=\"data row2 col4\" >0.6468</td>\n",
       "      <td id=\"T_0c5ae_row2_col5\" class=\"data row2 col5\" >0.4816</td>\n",
       "      <td id=\"T_0c5ae_row2_col6\" class=\"data row2 col6\" >0.5020</td>\n",
       "    </tr>\n",
       "    <tr>\n",
       "      <th id=\"T_0c5ae_level0_row3\" class=\"row_heading level0 row3\" >3</th>\n",
       "      <td id=\"T_0c5ae_row3_col0\" class=\"data row3 col0\" >0.7249</td>\n",
       "      <td id=\"T_0c5ae_row3_col1\" class=\"data row3 col1\" >0.8362</td>\n",
       "      <td id=\"T_0c5ae_row3_col2\" class=\"data row3 col2\" >0.7970</td>\n",
       "      <td id=\"T_0c5ae_row3_col3\" class=\"data row3 col3\" >0.4909</td>\n",
       "      <td id=\"T_0c5ae_row3_col4\" class=\"data row3 col4\" >0.6076</td>\n",
       "      <td id=\"T_0c5ae_row3_col5\" class=\"data row3 col5\" >0.4136</td>\n",
       "      <td id=\"T_0c5ae_row3_col6\" class=\"data row3 col6\" >0.4425</td>\n",
       "    </tr>\n",
       "    <tr>\n",
       "      <th id=\"T_0c5ae_level0_row4\" class=\"row_heading level0 row4\" >4</th>\n",
       "      <td id=\"T_0c5ae_row4_col0\" class=\"data row4 col0\" >0.7485</td>\n",
       "      <td id=\"T_0c5ae_row4_col1\" class=\"data row4 col1\" >0.8301</td>\n",
       "      <td id=\"T_0c5ae_row4_col2\" class=\"data row4 col2\" >0.7860</td>\n",
       "      <td id=\"T_0c5ae_row4_col3\" class=\"data row4 col3\" >0.5195</td>\n",
       "      <td id=\"T_0c5ae_row4_col4\" class=\"data row4 col4\" >0.6256</td>\n",
       "      <td id=\"T_0c5ae_row4_col5\" class=\"data row4 col5\" >0.4479</td>\n",
       "      <td id=\"T_0c5ae_row4_col6\" class=\"data row4 col6\" >0.4696</td>\n",
       "    </tr>\n",
       "    <tr>\n",
       "      <th id=\"T_0c5ae_level0_row5\" class=\"row_heading level0 row5\" >Mean</th>\n",
       "      <td id=\"T_0c5ae_row5_col0\" class=\"data row5 col0\" >0.7523</td>\n",
       "      <td id=\"T_0c5ae_row5_col1\" class=\"data row5 col1\" >0.8424</td>\n",
       "      <td id=\"T_0c5ae_row5_col2\" class=\"data row5 col2\" >0.7954</td>\n",
       "      <td id=\"T_0c5ae_row5_col3\" class=\"data row5 col3\" >0.5245</td>\n",
       "      <td id=\"T_0c5ae_row5_col4\" class=\"data row5 col4\" >0.6318</td>\n",
       "      <td id=\"T_0c5ae_row5_col5\" class=\"data row5 col5\" >0.4570</td>\n",
       "      <td id=\"T_0c5ae_row5_col6\" class=\"data row5 col6\" >0.4798</td>\n",
       "    </tr>\n",
       "    <tr>\n",
       "      <th id=\"T_0c5ae_level0_row6\" class=\"row_heading level0 row6\" >SD</th>\n",
       "      <td id=\"T_0c5ae_row6_col0\" class=\"data row6 col0\" >0.0149</td>\n",
       "      <td id=\"T_0c5ae_row6_col1\" class=\"data row6 col1\" >0.0106</td>\n",
       "      <td id=\"T_0c5ae_row6_col2\" class=\"data row6 col2\" >0.0237</td>\n",
       "      <td id=\"T_0c5ae_row6_col3\" class=\"data row6 col3\" >0.0184</td>\n",
       "      <td id=\"T_0c5ae_row6_col4\" class=\"data row6 col4\" >0.0158</td>\n",
       "      <td id=\"T_0c5ae_row6_col5\" class=\"data row6 col5\" >0.0256</td>\n",
       "      <td id=\"T_0c5ae_row6_col6\" class=\"data row6 col6\" >0.0245</td>\n",
       "    </tr>\n",
       "  </tbody>\n",
       "</table>\n"
      ],
      "text/plain": [
       "<pandas.io.formats.style.Styler at 0x7ff980a73700>"
      ]
     },
     "metadata": {},
     "output_type": "display_data"
    },
    {
     "name": "stdout",
     "output_type": "stream",
     "text": [
      "CPU times: user 8.94 s, sys: 1.18 s, total: 10.1 s\n",
      "Wall time: 7min 31s\n"
     ]
    }
   ],
   "source": [
    "%time tuned_lr = tune_model(lr, n_iter=1000, optimize='f1', custom_grid=custom_grid)"
   ]
  },
  {
   "cell_type": "code",
   "execution_count": 15,
   "id": "5b5c15c6-dc44-4e7f-a80e-44caba01e8ff",
   "metadata": {},
   "outputs": [
    {
     "data": {
      "text/plain": [
       "LogisticRegression(C=0.03728329487353944, class_weight='balanced', dual=False,\n",
       "                   fit_intercept=True, intercept_scaling=1, l1_ratio=0.9,\n",
       "                   max_iter=1000, multi_class='auto', n_jobs=None,\n",
       "                   penalty='elasticnet', random_state=7106, solver='saga',\n",
       "                   tol=0.0001, verbose=0, warm_start=False)"
      ]
     },
     "execution_count": 15,
     "metadata": {},
     "output_type": "execute_result"
    }
   ],
   "source": [
    "tuned_lr"
   ]
  },
  {
   "cell_type": "code",
   "execution_count": 16,
   "id": "b350e7d9-d872-4369-8fe7-6b0408e6f1ac",
   "metadata": {},
   "outputs": [
    {
     "name": "stdout",
     "output_type": "stream",
     "text": [
      "+---------------+------------+----------+-------------+------+\n",
      "|               |   Accuracy |   Recall |   Precision |   F1 |\n",
      "+===============+============+==========+=============+======+\n",
      "| Model Summary |      0.743 |    0.731 |       0.509 |  0.6 |\n",
      "+---------------+------------+----------+-------------+------+\n"
     ]
    }
   ],
   "source": [
    "srs.evaluate_model(tuned_lr, data=data_validation)"
   ]
  },
  {
   "cell_type": "markdown",
   "id": "4bed53cf-cc76-47c4-9206-230aa829212c",
   "metadata": {},
   "source": [
    "**Ridge classifier**"
   ]
  },
  {
   "cell_type": "code",
   "execution_count": 17,
   "id": "d9b52d6a-0591-4d16-8e7c-2c541fa8ed57",
   "metadata": {},
   "outputs": [
    {
     "data": {
      "text/html": [
       "<style type=\"text/css\">\n",
       "#T_3e1a7_row5_col0, #T_3e1a7_row5_col1, #T_3e1a7_row5_col2, #T_3e1a7_row5_col3, #T_3e1a7_row5_col4, #T_3e1a7_row5_col5, #T_3e1a7_row5_col6 {\n",
       "  background: yellow;\n",
       "}\n",
       "</style>\n",
       "<table id=\"T_3e1a7_\">\n",
       "  <thead>\n",
       "    <tr>\n",
       "      <th class=\"blank level0\" >&nbsp;</th>\n",
       "      <th class=\"col_heading level0 col0\" >Accuracy</th>\n",
       "      <th class=\"col_heading level0 col1\" >AUC</th>\n",
       "      <th class=\"col_heading level0 col2\" >Recall</th>\n",
       "      <th class=\"col_heading level0 col3\" >Prec.</th>\n",
       "      <th class=\"col_heading level0 col4\" >F1</th>\n",
       "      <th class=\"col_heading level0 col5\" >Kappa</th>\n",
       "      <th class=\"col_heading level0 col6\" >MCC</th>\n",
       "    </tr>\n",
       "  </thead>\n",
       "  <tbody>\n",
       "    <tr>\n",
       "      <th id=\"T_3e1a7_level0_row0\" class=\"row_heading level0 row0\" >0</th>\n",
       "      <td id=\"T_3e1a7_row0_col0\" class=\"data row0 col0\" >0.7488</td>\n",
       "      <td id=\"T_3e1a7_row0_col1\" class=\"data row0 col1\" >0.0000</td>\n",
       "      <td id=\"T_3e1a7_row0_col2\" class=\"data row0 col2\" >0.7675</td>\n",
       "      <td id=\"T_3e1a7_row0_col3\" class=\"data row0 col3\" >0.5200</td>\n",
       "      <td id=\"T_3e1a7_row0_col4\" class=\"data row0 col4\" >0.6200</td>\n",
       "      <td id=\"T_3e1a7_row0_col5\" class=\"data row0 col5\" >0.4425</td>\n",
       "      <td id=\"T_3e1a7_row0_col6\" class=\"data row0 col6\" >0.4612</td>\n",
       "    </tr>\n",
       "    <tr>\n",
       "      <th id=\"T_3e1a7_level0_row1\" class=\"row_heading level0 row1\" >1</th>\n",
       "      <td id=\"T_3e1a7_row1_col0\" class=\"data row1 col0\" >0.7564</td>\n",
       "      <td id=\"T_3e1a7_row1_col1\" class=\"data row1 col1\" >0.0000</td>\n",
       "      <td id=\"T_3e1a7_row1_col2\" class=\"data row1 col2\" >0.8259</td>\n",
       "      <td id=\"T_3e1a7_row1_col3\" class=\"data row1 col3\" >0.5272</td>\n",
       "      <td id=\"T_3e1a7_row1_col4\" class=\"data row1 col4\" >0.6436</td>\n",
       "      <td id=\"T_3e1a7_row1_col5\" class=\"data row1 col5\" >0.4719</td>\n",
       "      <td id=\"T_3e1a7_row1_col6\" class=\"data row1 col6\" >0.4994</td>\n",
       "    </tr>\n",
       "    <tr>\n",
       "      <th id=\"T_3e1a7_level0_row2\" class=\"row_heading level0 row2\" >2</th>\n",
       "      <td id=\"T_3e1a7_row2_col0\" class=\"data row2 col0\" >0.7544</td>\n",
       "      <td id=\"T_3e1a7_row2_col1\" class=\"data row2 col1\" >0.0000</td>\n",
       "      <td id=\"T_3e1a7_row2_col2\" class=\"data row2 col2\" >0.8007</td>\n",
       "      <td id=\"T_3e1a7_row2_col3\" class=\"data row2 col3\" >0.5267</td>\n",
       "      <td id=\"T_3e1a7_row2_col4\" class=\"data row2 col4\" >0.6354</td>\n",
       "      <td id=\"T_3e1a7_row2_col5\" class=\"data row2 col5\" >0.4619</td>\n",
       "      <td id=\"T_3e1a7_row2_col6\" class=\"data row2 col6\" >0.4850</td>\n",
       "    </tr>\n",
       "    <tr>\n",
       "      <th id=\"T_3e1a7_level0_row3\" class=\"row_heading level0 row3\" >3</th>\n",
       "      <td id=\"T_3e1a7_row3_col0\" class=\"data row3 col0\" >0.7140</td>\n",
       "      <td id=\"T_3e1a7_row3_col1\" class=\"data row3 col1\" >0.0000</td>\n",
       "      <td id=\"T_3e1a7_row3_col2\" class=\"data row3 col2\" >0.8044</td>\n",
       "      <td id=\"T_3e1a7_row3_col3\" class=\"data row3 col3\" >0.4791</td>\n",
       "      <td id=\"T_3e1a7_row3_col4\" class=\"data row3 col4\" >0.6006</td>\n",
       "      <td id=\"T_3e1a7_row3_col5\" class=\"data row3 col5\" >0.3993</td>\n",
       "      <td id=\"T_3e1a7_row3_col6\" class=\"data row3 col6\" >0.4319</td>\n",
       "    </tr>\n",
       "    <tr>\n",
       "      <th id=\"T_3e1a7_level0_row4\" class=\"row_heading level0 row4\" >4</th>\n",
       "      <td id=\"T_3e1a7_row4_col0\" class=\"data row4 col0\" >0.7465</td>\n",
       "      <td id=\"T_3e1a7_row4_col1\" class=\"data row4 col1\" >0.0000</td>\n",
       "      <td id=\"T_3e1a7_row4_col2\" class=\"data row4 col2\" >0.7970</td>\n",
       "      <td id=\"T_3e1a7_row4_col3\" class=\"data row4 col3\" >0.5167</td>\n",
       "      <td id=\"T_3e1a7_row4_col4\" class=\"data row4 col4\" >0.6270</td>\n",
       "      <td id=\"T_3e1a7_row4_col5\" class=\"data row4 col5\" >0.4480</td>\n",
       "      <td id=\"T_3e1a7_row4_col6\" class=\"data row4 col6\" >0.4721</td>\n",
       "    </tr>\n",
       "    <tr>\n",
       "      <th id=\"T_3e1a7_level0_row5\" class=\"row_heading level0 row5\" >Mean</th>\n",
       "      <td id=\"T_3e1a7_row5_col0\" class=\"data row5 col0\" >0.7440</td>\n",
       "      <td id=\"T_3e1a7_row5_col1\" class=\"data row5 col1\" >0.0000</td>\n",
       "      <td id=\"T_3e1a7_row5_col2\" class=\"data row5 col2\" >0.7991</td>\n",
       "      <td id=\"T_3e1a7_row5_col3\" class=\"data row5 col3\" >0.5140</td>\n",
       "      <td id=\"T_3e1a7_row5_col4\" class=\"data row5 col4\" >0.6253</td>\n",
       "      <td id=\"T_3e1a7_row5_col5\" class=\"data row5 col5\" >0.4447</td>\n",
       "      <td id=\"T_3e1a7_row5_col6\" class=\"data row5 col6\" >0.4699</td>\n",
       "    </tr>\n",
       "    <tr>\n",
       "      <th id=\"T_3e1a7_level0_row6\" class=\"row_heading level0 row6\" >SD</th>\n",
       "      <td id=\"T_3e1a7_row6_col0\" class=\"data row6 col0\" >0.0154</td>\n",
       "      <td id=\"T_3e1a7_row6_col1\" class=\"data row6 col1\" >0.0000</td>\n",
       "      <td id=\"T_3e1a7_row6_col2\" class=\"data row6 col2\" >0.0187</td>\n",
       "      <td id=\"T_3e1a7_row6_col3\" class=\"data row6 col3\" >0.0179</td>\n",
       "      <td id=\"T_3e1a7_row6_col4\" class=\"data row6 col4\" >0.0147</td>\n",
       "      <td id=\"T_3e1a7_row6_col5\" class=\"data row6 col5\" >0.0249</td>\n",
       "      <td id=\"T_3e1a7_row6_col6\" class=\"data row6 col6\" >0.0229</td>\n",
       "    </tr>\n",
       "  </tbody>\n",
       "</table>\n"
      ],
      "text/plain": [
       "<pandas.io.formats.style.Styler at 0x7ff961388b50>"
      ]
     },
     "metadata": {},
     "output_type": "display_data"
    }
   ],
   "source": [
    "ridge = create_model('ridge');"
   ]
  },
  {
   "cell_type": "code",
   "execution_count": 18,
   "id": "0e9ccb18-8709-4ef3-be99-ad20dfcbf1e4",
   "metadata": {},
   "outputs": [],
   "source": [
    "custom_grid = {\n",
    "    'fit_intercept': [True],\n",
    "    'max_iter': [1000],\n",
    "    'normalize': [True, False],\n",
    "    'class_weight': ['balanced'],\n",
    "    'solver': ['auto'],\n",
    "    'alpha': np.logspace(0.0001, 4, num=100) / 1000,\n",
    "}"
   ]
  },
  {
   "cell_type": "code",
   "execution_count": 19,
   "id": "f5236e9a-b26b-4d45-8013-3dec4085862d",
   "metadata": {},
   "outputs": [
    {
     "data": {
      "text/html": [
       "<style type=\"text/css\">\n",
       "#T_8d847_row5_col0, #T_8d847_row5_col1, #T_8d847_row5_col2, #T_8d847_row5_col3, #T_8d847_row5_col4, #T_8d847_row5_col5, #T_8d847_row5_col6 {\n",
       "  background: yellow;\n",
       "}\n",
       "</style>\n",
       "<table id=\"T_8d847_\">\n",
       "  <thead>\n",
       "    <tr>\n",
       "      <th class=\"blank level0\" >&nbsp;</th>\n",
       "      <th class=\"col_heading level0 col0\" >Accuracy</th>\n",
       "      <th class=\"col_heading level0 col1\" >AUC</th>\n",
       "      <th class=\"col_heading level0 col2\" >Recall</th>\n",
       "      <th class=\"col_heading level0 col3\" >Prec.</th>\n",
       "      <th class=\"col_heading level0 col4\" >F1</th>\n",
       "      <th class=\"col_heading level0 col5\" >Kappa</th>\n",
       "      <th class=\"col_heading level0 col6\" >MCC</th>\n",
       "    </tr>\n",
       "  </thead>\n",
       "  <tbody>\n",
       "    <tr>\n",
       "      <th id=\"T_8d847_level0_row0\" class=\"row_heading level0 row0\" >0</th>\n",
       "      <td id=\"T_8d847_row0_col0\" class=\"data row0 col0\" >0.7517</td>\n",
       "      <td id=\"T_8d847_row0_col1\" class=\"data row0 col1\" >0.0000</td>\n",
       "      <td id=\"T_8d847_row0_col2\" class=\"data row0 col2\" >0.7712</td>\n",
       "      <td id=\"T_8d847_row0_col3\" class=\"data row0 col3\" >0.5238</td>\n",
       "      <td id=\"T_8d847_row0_col4\" class=\"data row0 col4\" >0.6239</td>\n",
       "      <td id=\"T_8d847_row0_col5\" class=\"data row0 col5\" >0.4485</td>\n",
       "      <td id=\"T_8d847_row0_col6\" class=\"data row0 col6\" >0.4672</td>\n",
       "    </tr>\n",
       "    <tr>\n",
       "      <th id=\"T_8d847_level0_row1\" class=\"row_heading level0 row1\" >1</th>\n",
       "      <td id=\"T_8d847_row1_col0\" class=\"data row1 col0\" >0.7535</td>\n",
       "      <td id=\"T_8d847_row1_col1\" class=\"data row1 col1\" >0.0000</td>\n",
       "      <td id=\"T_8d847_row1_col2\" class=\"data row1 col2\" >0.8185</td>\n",
       "      <td id=\"T_8d847_row1_col3\" class=\"data row1 col3\" >0.5237</td>\n",
       "      <td id=\"T_8d847_row1_col4\" class=\"data row1 col4\" >0.6387</td>\n",
       "      <td id=\"T_8d847_row1_col5\" class=\"data row1 col5\" >0.4650</td>\n",
       "      <td id=\"T_8d847_row1_col6\" class=\"data row1 col6\" >0.4917</td>\n",
       "    </tr>\n",
       "    <tr>\n",
       "      <th id=\"T_8d847_level0_row2\" class=\"row_heading level0 row2\" >2</th>\n",
       "      <td id=\"T_8d847_row2_col0\" class=\"data row2 col0\" >0.7623</td>\n",
       "      <td id=\"T_8d847_row2_col1\" class=\"data row2 col1\" >0.0000</td>\n",
       "      <td id=\"T_8d847_row2_col2\" class=\"data row2 col2\" >0.8118</td>\n",
       "      <td id=\"T_8d847_row2_col3\" class=\"data row2 col3\" >0.5366</td>\n",
       "      <td id=\"T_8d847_row2_col4\" class=\"data row2 col4\" >0.6461</td>\n",
       "      <td id=\"T_8d847_row2_col5\" class=\"data row2 col5\" >0.4782</td>\n",
       "      <td id=\"T_8d847_row2_col6\" class=\"data row2 col6\" >0.5014</td>\n",
       "    </tr>\n",
       "    <tr>\n",
       "      <th id=\"T_8d847_level0_row3\" class=\"row_heading level0 row3\" >3</th>\n",
       "      <td id=\"T_8d847_row3_col0\" class=\"data row3 col0\" >0.7189</td>\n",
       "      <td id=\"T_8d847_row3_col1\" class=\"data row3 col1\" >0.0000</td>\n",
       "      <td id=\"T_8d847_row3_col2\" class=\"data row3 col2\" >0.8007</td>\n",
       "      <td id=\"T_8d847_row3_col3\" class=\"data row3 col3\" >0.4844</td>\n",
       "      <td id=\"T_8d847_row3_col4\" class=\"data row3 col4\" >0.6036</td>\n",
       "      <td id=\"T_8d847_row3_col5\" class=\"data row3 col5\" >0.4057</td>\n",
       "      <td id=\"T_8d847_row3_col6\" class=\"data row3 col6\" >0.4365</td>\n",
       "    </tr>\n",
       "    <tr>\n",
       "      <th id=\"T_8d847_level0_row4\" class=\"row_heading level0 row4\" >4</th>\n",
       "      <td id=\"T_8d847_row4_col0\" class=\"data row4 col0\" >0.7436</td>\n",
       "      <td id=\"T_8d847_row4_col1\" class=\"data row4 col1\" >0.0000</td>\n",
       "      <td id=\"T_8d847_row4_col2\" class=\"data row4 col2\" >0.8044</td>\n",
       "      <td id=\"T_8d847_row4_col3\" class=\"data row4 col3\" >0.5129</td>\n",
       "      <td id=\"T_8d847_row4_col4\" class=\"data row4 col4\" >0.6264</td>\n",
       "      <td id=\"T_8d847_row4_col5\" class=\"data row4 col5\" >0.4454</td>\n",
       "      <td id=\"T_8d847_row4_col6\" class=\"data row4 col6\" >0.4716</td>\n",
       "    </tr>\n",
       "    <tr>\n",
       "      <th id=\"T_8d847_level0_row5\" class=\"row_heading level0 row5\" >Mean</th>\n",
       "      <td id=\"T_8d847_row5_col0\" class=\"data row5 col0\" >0.7460</td>\n",
       "      <td id=\"T_8d847_row5_col1\" class=\"data row5 col1\" >0.0000</td>\n",
       "      <td id=\"T_8d847_row5_col2\" class=\"data row5 col2\" >0.8013</td>\n",
       "      <td id=\"T_8d847_row5_col3\" class=\"data row5 col3\" >0.5163</td>\n",
       "      <td id=\"T_8d847_row5_col4\" class=\"data row5 col4\" >0.6278</td>\n",
       "      <td id=\"T_8d847_row5_col5\" class=\"data row5 col5\" >0.4486</td>\n",
       "      <td id=\"T_8d847_row5_col6\" class=\"data row5 col6\" >0.4737</td>\n",
       "    </tr>\n",
       "    <tr>\n",
       "      <th id=\"T_8d847_level0_row6\" class=\"row_heading level0 row6\" >SD</th>\n",
       "      <td id=\"T_8d847_row6_col0\" class=\"data row6 col0\" >0.0148</td>\n",
       "      <td id=\"T_8d847_row6_col1\" class=\"data row6 col1\" >0.0000</td>\n",
       "      <td id=\"T_8d847_row6_col2\" class=\"data row6 col2\" >0.0163</td>\n",
       "      <td id=\"T_8d847_row6_col3\" class=\"data row6 col3\" >0.0176</td>\n",
       "      <td id=\"T_8d847_row6_col4\" class=\"data row6 col4\" >0.0145</td>\n",
       "      <td id=\"T_8d847_row6_col5\" class=\"data row6 col5\" >0.0245</td>\n",
       "      <td id=\"T_8d847_row6_col6\" class=\"data row6 col6\" >0.0225</td>\n",
       "    </tr>\n",
       "  </tbody>\n",
       "</table>\n"
      ],
      "text/plain": [
       "<pandas.io.formats.style.Styler at 0x7ff98278a1c0>"
      ]
     },
     "metadata": {},
     "output_type": "display_data"
    },
    {
     "name": "stdout",
     "output_type": "stream",
     "text": [
      "CPU times: user 2 s, sys: 361 ms, total: 2.36 s\n",
      "Wall time: 12.5 s\n"
     ]
    }
   ],
   "source": [
    "%time tuned_ridge = tune_model(ridge, n_iter=1000, optimize='f1', custom_grid=custom_grid)"
   ]
  },
  {
   "cell_type": "code",
   "execution_count": 20,
   "id": "ae8dde7a-3d1b-413f-8643-3bdfd49f449c",
   "metadata": {},
   "outputs": [
    {
     "data": {
      "text/plain": [
       "RidgeClassifier(alpha=0.26563287220127, class_weight='balanced', copy_X=True,\n",
       "                fit_intercept=True, max_iter=1000, normalize=True,\n",
       "                random_state=7106, solver='auto', tol=0.001)"
      ]
     },
     "execution_count": 20,
     "metadata": {},
     "output_type": "execute_result"
    }
   ],
   "source": [
    "tuned_ridge"
   ]
  },
  {
   "cell_type": "code",
   "execution_count": 21,
   "id": "fe0fcfc1-67ab-4c49-8186-c3848f50b671",
   "metadata": {},
   "outputs": [
    {
     "name": "stdout",
     "output_type": "stream",
     "text": [
      "+---------------+------------+----------+-------------+-------+\n",
      "|               |   Accuracy |   Recall |   Precision |    F1 |\n",
      "+===============+============+==========+=============+=======+\n",
      "| Model Summary |      0.746 |    0.742 |       0.513 | 0.607 |\n",
      "+---------------+------------+----------+-------------+-------+\n"
     ]
    }
   ],
   "source": [
    "srs.evaluate_model(tuned_ridge, data=data_validation)"
   ]
  },
  {
   "cell_type": "markdown",
   "id": "c6eb2c95-3896-48fd-b15f-679db0db2d64",
   "metadata": {},
   "source": [
    "**SVM - with linear kernel**"
   ]
  },
  {
   "cell_type": "code",
   "execution_count": 22,
   "id": "01717330-6cbb-4db3-a768-310cd68a4933",
   "metadata": {},
   "outputs": [
    {
     "data": {
      "text/html": [
       "<style type=\"text/css\">\n",
       "#T_5c574_row5_col0, #T_5c574_row5_col1, #T_5c574_row5_col2, #T_5c574_row5_col3, #T_5c574_row5_col4, #T_5c574_row5_col5, #T_5c574_row5_col6 {\n",
       "  background: yellow;\n",
       "}\n",
       "</style>\n",
       "<table id=\"T_5c574_\">\n",
       "  <thead>\n",
       "    <tr>\n",
       "      <th class=\"blank level0\" >&nbsp;</th>\n",
       "      <th class=\"col_heading level0 col0\" >Accuracy</th>\n",
       "      <th class=\"col_heading level0 col1\" >AUC</th>\n",
       "      <th class=\"col_heading level0 col2\" >Recall</th>\n",
       "      <th class=\"col_heading level0 col3\" >Prec.</th>\n",
       "      <th class=\"col_heading level0 col4\" >F1</th>\n",
       "      <th class=\"col_heading level0 col5\" >Kappa</th>\n",
       "      <th class=\"col_heading level0 col6\" >MCC</th>\n",
       "    </tr>\n",
       "  </thead>\n",
       "  <tbody>\n",
       "    <tr>\n",
       "      <th id=\"T_5c574_level0_row0\" class=\"row_heading level0 row0\" >0</th>\n",
       "      <td id=\"T_5c574_row0_col0\" class=\"data row0 col0\" >0.7645</td>\n",
       "      <td id=\"T_5c574_row0_col1\" class=\"data row0 col1\" >0.0000</td>\n",
       "      <td id=\"T_5c574_row0_col2\" class=\"data row0 col2\" >0.7528</td>\n",
       "      <td id=\"T_5c574_row0_col3\" class=\"data row0 col3\" >0.5426</td>\n",
       "      <td id=\"T_5c574_row0_col4\" class=\"data row0 col4\" >0.6306</td>\n",
       "      <td id=\"T_5c574_row0_col5\" class=\"data row0 col5\" >0.4644</td>\n",
       "      <td id=\"T_5c574_row0_col6\" class=\"data row0 col6\" >0.4778</td>\n",
       "    </tr>\n",
       "    <tr>\n",
       "      <th id=\"T_5c574_level0_row1\" class=\"row_heading level0 row1\" >1</th>\n",
       "      <td id=\"T_5c574_row1_col0\" class=\"data row1 col0\" >0.7722</td>\n",
       "      <td id=\"T_5c574_row1_col1\" class=\"data row1 col1\" >0.0000</td>\n",
       "      <td id=\"T_5c574_row1_col2\" class=\"data row1 col2\" >0.7556</td>\n",
       "      <td id=\"T_5c574_row1_col3\" class=\"data row1 col3\" >0.5528</td>\n",
       "      <td id=\"T_5c574_row1_col4\" class=\"data row1 col4\" >0.6385</td>\n",
       "      <td id=\"T_5c574_row1_col5\" class=\"data row1 col5\" >0.4780</td>\n",
       "      <td id=\"T_5c574_row1_col6\" class=\"data row1 col6\" >0.4904</td>\n",
       "    </tr>\n",
       "    <tr>\n",
       "      <th id=\"T_5c574_level0_row2\" class=\"row_heading level0 row2\" >2</th>\n",
       "      <td id=\"T_5c574_row2_col0\" class=\"data row2 col0\" >0.7761</td>\n",
       "      <td id=\"T_5c574_row2_col1\" class=\"data row2 col1\" >0.0000</td>\n",
       "      <td id=\"T_5c574_row2_col2\" class=\"data row2 col2\" >0.7970</td>\n",
       "      <td id=\"T_5c574_row2_col3\" class=\"data row2 col3\" >0.5567</td>\n",
       "      <td id=\"T_5c574_row2_col4\" class=\"data row2 col4\" >0.6555</td>\n",
       "      <td id=\"T_5c574_row2_col5\" class=\"data row2 col5\" >0.4974</td>\n",
       "      <td id=\"T_5c574_row2_col6\" class=\"data row2 col6\" >0.5149</td>\n",
       "    </tr>\n",
       "    <tr>\n",
       "      <th id=\"T_5c574_level0_row3\" class=\"row_heading level0 row3\" >3</th>\n",
       "      <td id=\"T_5c574_row3_col0\" class=\"data row3 col0\" >0.7258</td>\n",
       "      <td id=\"T_5c574_row3_col1\" class=\"data row3 col1\" >0.0000</td>\n",
       "      <td id=\"T_5c574_row3_col2\" class=\"data row3 col2\" >0.7823</td>\n",
       "      <td id=\"T_5c574_row3_col3\" class=\"data row3 col3\" >0.4919</td>\n",
       "      <td id=\"T_5c574_row3_col4\" class=\"data row3 col4\" >0.6040</td>\n",
       "      <td id=\"T_5c574_row3_col5\" class=\"data row3 col5\" >0.4105</td>\n",
       "      <td id=\"T_5c574_row3_col6\" class=\"data row3 col6\" >0.4364</td>\n",
       "    </tr>\n",
       "    <tr>\n",
       "      <th id=\"T_5c574_level0_row4\" class=\"row_heading level0 row4\" >4</th>\n",
       "      <td id=\"T_5c574_row4_col0\" class=\"data row4 col0\" >0.7643</td>\n",
       "      <td id=\"T_5c574_row4_col1\" class=\"data row4 col1\" >0.0000</td>\n",
       "      <td id=\"T_5c574_row4_col2\" class=\"data row4 col2\" >0.6716</td>\n",
       "      <td id=\"T_5c574_row4_col3\" class=\"data row4 col3\" >0.5482</td>\n",
       "      <td id=\"T_5c574_row4_col4\" class=\"data row4 col4\" >0.6036</td>\n",
       "      <td id=\"T_5c574_row4_col5\" class=\"data row4 col5\" >0.4384</td>\n",
       "      <td id=\"T_5c574_row4_col6\" class=\"data row4 col6\" >0.4429</td>\n",
       "    </tr>\n",
       "    <tr>\n",
       "      <th id=\"T_5c574_level0_row5\" class=\"row_heading level0 row5\" >Mean</th>\n",
       "      <td id=\"T_5c574_row5_col0\" class=\"data row5 col0\" >0.7606</td>\n",
       "      <td id=\"T_5c574_row5_col1\" class=\"data row5 col1\" >0.0000</td>\n",
       "      <td id=\"T_5c574_row5_col2\" class=\"data row5 col2\" >0.7518</td>\n",
       "      <td id=\"T_5c574_row5_col3\" class=\"data row5 col3\" >0.5384</td>\n",
       "      <td id=\"T_5c574_row5_col4\" class=\"data row5 col4\" >0.6265</td>\n",
       "      <td id=\"T_5c574_row5_col5\" class=\"data row5 col5\" >0.4577</td>\n",
       "      <td id=\"T_5c574_row5_col6\" class=\"data row5 col6\" >0.4725</td>\n",
       "    </tr>\n",
       "    <tr>\n",
       "      <th id=\"T_5c574_level0_row6\" class=\"row_heading level0 row6\" >SD</th>\n",
       "      <td id=\"T_5c574_row6_col0\" class=\"data row6 col0\" >0.0180</td>\n",
       "      <td id=\"T_5c574_row6_col1\" class=\"data row6 col1\" >0.0000</td>\n",
       "      <td id=\"T_5c574_row6_col2\" class=\"data row6 col2\" >0.0434</td>\n",
       "      <td id=\"T_5c574_row6_col3\" class=\"data row6 col3\" >0.0238</td>\n",
       "      <td id=\"T_5c574_row6_col4\" class=\"data row6 col4\" >0.0202</td>\n",
       "      <td id=\"T_5c574_row6_col5\" class=\"data row6 col5\" >0.0304</td>\n",
       "      <td id=\"T_5c574_row6_col6\" class=\"data row6 col6\" >0.0294</td>\n",
       "    </tr>\n",
       "  </tbody>\n",
       "</table>\n"
      ],
      "text/plain": [
       "<pandas.io.formats.style.Styler at 0x7ff93009b6d0>"
      ]
     },
     "metadata": {},
     "output_type": "display_data"
    }
   ],
   "source": [
    "svm = create_model('svm');"
   ]
  },
  {
   "cell_type": "code",
   "execution_count": 23,
   "id": "8498ea00-495b-4e2c-b825-73b47f5b86d2",
   "metadata": {},
   "outputs": [],
   "source": [
    "custom_grid = {\n",
    "    'loss': ['hinge'], # This value is required for the SVM\n",
    "    'penalty': ['l2', 'l1', 'elasticnet'],\n",
    "    'alpha': np.logspace(0.0001, 4, num=50) / 100000,\n",
    "    'l1_ratio': [0.05, 0.1, 0.25, 0.5, 0.75, 0.9],\n",
    "    'fit_intercept': [True],\n",
    "    'max_iter': [1000],\n",
    "    'learning_rate': ['optimal'],\n",
    "    'class_weight': ['balanced'],\n",
    "}"
   ]
  },
  {
   "cell_type": "code",
   "execution_count": null,
   "id": "599e9502-d042-4b47-ab94-a54d471e2d0a",
   "metadata": {},
   "outputs": [
    {
     "data": {
      "text/html": [
       "<style type=\"text/css\">\n",
       "#T_54b36_row5_col0, #T_54b36_row5_col1, #T_54b36_row5_col2, #T_54b36_row5_col3, #T_54b36_row5_col4, #T_54b36_row5_col5, #T_54b36_row5_col6 {\n",
       "  background: yellow;\n",
       "}\n",
       "</style>\n",
       "<table id=\"T_54b36_\">\n",
       "  <thead>\n",
       "    <tr>\n",
       "      <th class=\"blank level0\" >&nbsp;</th>\n",
       "      <th class=\"col_heading level0 col0\" >Accuracy</th>\n",
       "      <th class=\"col_heading level0 col1\" >AUC</th>\n",
       "      <th class=\"col_heading level0 col2\" >Recall</th>\n",
       "      <th class=\"col_heading level0 col3\" >Prec.</th>\n",
       "      <th class=\"col_heading level0 col4\" >F1</th>\n",
       "      <th class=\"col_heading level0 col5\" >Kappa</th>\n",
       "      <th class=\"col_heading level0 col6\" >MCC</th>\n",
       "    </tr>\n",
       "  </thead>\n",
       "  <tbody>\n",
       "    <tr>\n",
       "      <th id=\"T_54b36_level0_row0\" class=\"row_heading level0 row0\" >0</th>\n",
       "      <td id=\"T_54b36_row0_col0\" class=\"data row0 col0\" >0.7685</td>\n",
       "      <td id=\"T_54b36_row0_col1\" class=\"data row0 col1\" >0.0000</td>\n",
       "      <td id=\"T_54b36_row0_col2\" class=\"data row0 col2\" >0.7712</td>\n",
       "      <td id=\"T_54b36_row0_col3\" class=\"data row0 col3\" >0.5471</td>\n",
       "      <td id=\"T_54b36_row0_col4\" class=\"data row0 col4\" >0.6401</td>\n",
       "      <td id=\"T_54b36_row0_col5\" class=\"data row0 col5\" >0.4766</td>\n",
       "      <td id=\"T_54b36_row0_col6\" class=\"data row0 col6\" >0.4919</td>\n",
       "    </tr>\n",
       "    <tr>\n",
       "      <th id=\"T_54b36_level0_row1\" class=\"row_heading level0 row1\" >1</th>\n",
       "      <td id=\"T_54b36_row1_col0\" class=\"data row1 col0\" >0.7475</td>\n",
       "      <td id=\"T_54b36_row1_col1\" class=\"data row1 col1\" >0.0000</td>\n",
       "      <td id=\"T_54b36_row1_col2\" class=\"data row1 col2\" >0.8074</td>\n",
       "      <td id=\"T_54b36_row1_col3\" class=\"data row1 col3\" >0.5166</td>\n",
       "      <td id=\"T_54b36_row1_col4\" class=\"data row1 col4\" >0.6301</td>\n",
       "      <td id=\"T_54b36_row1_col5\" class=\"data row1 col5\" >0.4521</td>\n",
       "      <td id=\"T_54b36_row1_col6\" class=\"data row1 col6\" >0.4781</td>\n",
       "    </tr>\n",
       "    <tr>\n",
       "      <th id=\"T_54b36_level0_row2\" class=\"row_heading level0 row2\" >2</th>\n",
       "      <td id=\"T_54b36_row2_col0\" class=\"data row2 col0\" >0.7890</td>\n",
       "      <td id=\"T_54b36_row2_col1\" class=\"data row2 col1\" >0.0000</td>\n",
       "      <td id=\"T_54b36_row2_col2\" class=\"data row2 col2\" >0.7749</td>\n",
       "      <td id=\"T_54b36_row2_col3\" class=\"data row2 col3\" >0.5785</td>\n",
       "      <td id=\"T_54b36_row2_col4\" class=\"data row2 col4\" >0.6625</td>\n",
       "      <td id=\"T_54b36_row2_col5\" class=\"data row2 col5\" >0.5136</td>\n",
       "      <td id=\"T_54b36_row2_col6\" class=\"data row2 col6\" >0.5252</td>\n",
       "    </tr>\n",
       "    <tr>\n",
       "      <th id=\"T_54b36_level0_row3\" class=\"row_heading level0 row3\" >3</th>\n",
       "      <td id=\"T_54b36_row3_col0\" class=\"data row3 col0\" >0.7485</td>\n",
       "      <td id=\"T_54b36_row3_col1\" class=\"data row3 col1\" >0.0000</td>\n",
       "      <td id=\"T_54b36_row3_col2\" class=\"data row3 col2\" >0.7749</td>\n",
       "      <td id=\"T_54b36_row3_col3\" class=\"data row3 col3\" >0.5198</td>\n",
       "      <td id=\"T_54b36_row3_col4\" class=\"data row3 col4\" >0.6222</td>\n",
       "      <td id=\"T_54b36_row3_col5\" class=\"data row3 col5\" >0.4445</td>\n",
       "      <td id=\"T_54b36_row3_col6\" class=\"data row3 col6\" >0.4644</td>\n",
       "    </tr>\n",
       "    <tr>\n",
       "      <th id=\"T_54b36_level0_row4\" class=\"row_heading level0 row4\" >4</th>\n",
       "      <td id=\"T_54b36_row4_col0\" class=\"data row4 col0\" >0.7327</td>\n",
       "      <td id=\"T_54b36_row4_col1\" class=\"data row4 col1\" >0.0000</td>\n",
       "      <td id=\"T_54b36_row4_col2\" class=\"data row4 col2\" >0.7749</td>\n",
       "      <td id=\"T_54b36_row4_col3\" class=\"data row4 col3\" >0.5000</td>\n",
       "      <td id=\"T_54b36_row4_col4\" class=\"data row4 col4\" >0.6078</td>\n",
       "      <td id=\"T_54b36_row4_col5\" class=\"data row4 col5\" >0.4191</td>\n",
       "      <td id=\"T_54b36_row4_col6\" class=\"data row4 col6\" >0.4422</td>\n",
       "    </tr>\n",
       "    <tr>\n",
       "      <th id=\"T_54b36_level0_row5\" class=\"row_heading level0 row5\" >Mean</th>\n",
       "      <td id=\"T_54b36_row5_col0\" class=\"data row5 col0\" >0.7572</td>\n",
       "      <td id=\"T_54b36_row5_col1\" class=\"data row5 col1\" >0.0000</td>\n",
       "      <td id=\"T_54b36_row5_col2\" class=\"data row5 col2\" >0.7807</td>\n",
       "      <td id=\"T_54b36_row5_col3\" class=\"data row5 col3\" >0.5324</td>\n",
       "      <td id=\"T_54b36_row5_col4\" class=\"data row5 col4\" >0.6325</td>\n",
       "      <td id=\"T_54b36_row5_col5\" class=\"data row5 col5\" >0.4612</td>\n",
       "      <td id=\"T_54b36_row5_col6\" class=\"data row5 col6\" >0.4804</td>\n",
       "    </tr>\n",
       "    <tr>\n",
       "      <th id=\"T_54b36_level0_row6\" class=\"row_heading level0 row6\" >SD</th>\n",
       "      <td id=\"T_54b36_row6_col0\" class=\"data row6 col0\" >0.0195</td>\n",
       "      <td id=\"T_54b36_row6_col1\" class=\"data row6 col1\" >0.0000</td>\n",
       "      <td id=\"T_54b36_row6_col2\" class=\"data row6 col2\" >0.0134</td>\n",
       "      <td id=\"T_54b36_row6_col3\" class=\"data row6 col3\" >0.0276</td>\n",
       "      <td id=\"T_54b36_row6_col4\" class=\"data row6 col4\" >0.0183</td>\n",
       "      <td id=\"T_54b36_row6_col5\" class=\"data row6 col5\" >0.0320</td>\n",
       "      <td id=\"T_54b36_row6_col6\" class=\"data row6 col6\" >0.0278</td>\n",
       "    </tr>\n",
       "  </tbody>\n",
       "</table>\n"
      ],
      "text/plain": [
       "<pandas.io.formats.style.Styler at 0x7ff978ddcbb0>"
      ]
     },
     "metadata": {},
     "output_type": "display_data"
    },
    {
     "name": "stdout",
     "output_type": "stream",
     "text": [
      "CPU times: user 14.4 s, sys: 2.03 s, total: 16.4 s\n",
      "Wall time: 1min 39s\n"
     ]
    }
   ],
   "source": [
    "%time tuned_svm = tune_model(svm, n_iter=1000, optimize='f1', custom_grid=custom_grid)"
   ]
  },
  {
   "cell_type": "code",
   "execution_count": null,
   "id": "a29cad23-0ff1-4e06-b053-518b6626fdd5",
   "metadata": {},
   "outputs": [
    {
     "data": {
      "text/plain": [
       "SGDClassifier(alpha=7.907455101892067e-05, average=False,\n",
       "              class_weight='balanced', early_stopping=False, epsilon=0.1,\n",
       "              eta0=0.001, fit_intercept=True, l1_ratio=0.05,\n",
       "              learning_rate='optimal', loss='hinge', max_iter=1000,\n",
       "              n_iter_no_change=5, n_jobs=5, penalty='elasticnet', power_t=0.5,\n",
       "              random_state=7106, shuffle=True, tol=0.001,\n",
       "              validation_fraction=0.1, verbose=0, warm_start=False)"
      ]
     },
     "execution_count": 25,
     "metadata": {},
     "output_type": "execute_result"
    }
   ],
   "source": [
    "tuned_svm"
   ]
  },
  {
   "cell_type": "code",
   "execution_count": null,
   "id": "c1f189f0-f918-46f4-88d3-b01ff74ef3de",
   "metadata": {},
   "outputs": [
    {
     "name": "stdout",
     "output_type": "stream",
     "text": [
      "+---------------+------------+----------+-------------+-------+\n",
      "|               |   Accuracy |   Recall |   Precision |    F1 |\n",
      "+===============+============+==========+=============+=======+\n",
      "| Model Summary |      0.709 |    0.753 |       0.468 | 0.577 |\n",
      "+---------------+------------+----------+-------------+-------+\n"
     ]
    }
   ],
   "source": [
    "srs.evaluate_model(tuned_svm, data=data_validation)"
   ]
  },
  {
   "cell_type": "markdown",
   "id": "c047b024-7c4a-4747-914b-03fc295a6b87",
   "metadata": {},
   "source": [
    "**KNN**"
   ]
  },
  {
   "cell_type": "code",
   "execution_count": null,
   "id": "27a17832-b4db-4b13-9a54-8bd7c251ef61",
   "metadata": {},
   "outputs": [
    {
     "data": {
      "text/html": [
       "<style type=\"text/css\">\n",
       "#T_89698_row5_col0, #T_89698_row5_col1, #T_89698_row5_col2, #T_89698_row5_col3, #T_89698_row5_col4, #T_89698_row5_col5, #T_89698_row5_col6 {\n",
       "  background: yellow;\n",
       "}\n",
       "</style>\n",
       "<table id=\"T_89698_\">\n",
       "  <thead>\n",
       "    <tr>\n",
       "      <th class=\"blank level0\" >&nbsp;</th>\n",
       "      <th class=\"col_heading level0 col0\" >Accuracy</th>\n",
       "      <th class=\"col_heading level0 col1\" >AUC</th>\n",
       "      <th class=\"col_heading level0 col2\" >Recall</th>\n",
       "      <th class=\"col_heading level0 col3\" >Prec.</th>\n",
       "      <th class=\"col_heading level0 col4\" >F1</th>\n",
       "      <th class=\"col_heading level0 col5\" >Kappa</th>\n",
       "      <th class=\"col_heading level0 col6\" >MCC</th>\n",
       "    </tr>\n",
       "  </thead>\n",
       "  <tbody>\n",
       "    <tr>\n",
       "      <th id=\"T_89698_level0_row0\" class=\"row_heading level0 row0\" >0</th>\n",
       "      <td id=\"T_89698_row0_col0\" class=\"data row0 col0\" >0.7084</td>\n",
       "      <td id=\"T_89698_row0_col1\" class=\"data row0 col1\" >0.7551</td>\n",
       "      <td id=\"T_89698_row0_col2\" class=\"data row0 col2\" >0.6679</td>\n",
       "      <td id=\"T_89698_row0_col3\" class=\"data row0 col3\" >0.4677</td>\n",
       "      <td id=\"T_89698_row0_col4\" class=\"data row0 col4\" >0.5502</td>\n",
       "      <td id=\"T_89698_row0_col5\" class=\"data row0 col5\" >0.3442</td>\n",
       "      <td id=\"T_89698_row0_col6\" class=\"data row0 col6\" >0.3561</td>\n",
       "    </tr>\n",
       "    <tr>\n",
       "      <th id=\"T_89698_level0_row1\" class=\"row_heading level0 row1\" >1</th>\n",
       "      <td id=\"T_89698_row1_col0\" class=\"data row1 col0\" >0.6893</td>\n",
       "      <td id=\"T_89698_row1_col1\" class=\"data row1 col1\" >0.7475</td>\n",
       "      <td id=\"T_89698_row1_col2\" class=\"data row1 col2\" >0.7333</td>\n",
       "      <td id=\"T_89698_row1_col3\" class=\"data row1 col3\" >0.4490</td>\n",
       "      <td id=\"T_89698_row1_col4\" class=\"data row1 col4\" >0.5570</td>\n",
       "      <td id=\"T_89698_row1_col5\" class=\"data row1 col5\" >0.3384</td>\n",
       "      <td id=\"T_89698_row1_col6\" class=\"data row1 col6\" >0.3626</td>\n",
       "    </tr>\n",
       "    <tr>\n",
       "      <th id=\"T_89698_level0_row2\" class=\"row_heading level0 row2\" >2</th>\n",
       "      <td id=\"T_89698_row2_col0\" class=\"data row2 col0\" >0.7130</td>\n",
       "      <td id=\"T_89698_row2_col1\" class=\"data row2 col1\" >0.7698</td>\n",
       "      <td id=\"T_89698_row2_col2\" class=\"data row2 col2\" >0.6974</td>\n",
       "      <td id=\"T_89698_row2_col3\" class=\"data row2 col3\" >0.4749</td>\n",
       "      <td id=\"T_89698_row2_col4\" class=\"data row2 col4\" >0.5650</td>\n",
       "      <td id=\"T_89698_row2_col5\" class=\"data row2 col5\" >0.3622</td>\n",
       "      <td id=\"T_89698_row2_col6\" class=\"data row2 col6\" >0.3771</td>\n",
       "    </tr>\n",
       "    <tr>\n",
       "      <th id=\"T_89698_level0_row3\" class=\"row_heading level0 row3\" >3</th>\n",
       "      <td id=\"T_89698_row3_col0\" class=\"data row3 col0\" >0.7022</td>\n",
       "      <td id=\"T_89698_row3_col1\" class=\"data row3 col1\" >0.7576</td>\n",
       "      <td id=\"T_89698_row3_col2\" class=\"data row3 col2\" >0.7528</td>\n",
       "      <td id=\"T_89698_row3_col3\" class=\"data row3 col3\" >0.4647</td>\n",
       "      <td id=\"T_89698_row3_col4\" class=\"data row3 col4\" >0.5746</td>\n",
       "      <td id=\"T_89698_row3_col5\" class=\"data row3 col5\" >0.3647</td>\n",
       "      <td id=\"T_89698_row3_col6\" class=\"data row3 col6\" >0.3898</td>\n",
       "    </tr>\n",
       "    <tr>\n",
       "      <th id=\"T_89698_level0_row4\" class=\"row_heading level0 row4\" >4</th>\n",
       "      <td id=\"T_89698_row4_col0\" class=\"data row4 col0\" >0.7022</td>\n",
       "      <td id=\"T_89698_row4_col1\" class=\"data row4 col1\" >0.7383</td>\n",
       "      <td id=\"T_89698_row4_col2\" class=\"data row4 col2\" >0.6753</td>\n",
       "      <td id=\"T_89698_row4_col3\" class=\"data row4 col3\" >0.4610</td>\n",
       "      <td id=\"T_89698_row4_col4\" class=\"data row4 col4\" >0.5479</td>\n",
       "      <td id=\"T_89698_row4_col5\" class=\"data row4 col5\" >0.3374</td>\n",
       "      <td id=\"T_89698_row4_col6\" class=\"data row4 col6\" >0.3511</td>\n",
       "    </tr>\n",
       "    <tr>\n",
       "      <th id=\"T_89698_level0_row5\" class=\"row_heading level0 row5\" >Mean</th>\n",
       "      <td id=\"T_89698_row5_col0\" class=\"data row5 col0\" >0.7030</td>\n",
       "      <td id=\"T_89698_row5_col1\" class=\"data row5 col1\" >0.7536</td>\n",
       "      <td id=\"T_89698_row5_col2\" class=\"data row5 col2\" >0.7053</td>\n",
       "      <td id=\"T_89698_row5_col3\" class=\"data row5 col3\" >0.4634</td>\n",
       "      <td id=\"T_89698_row5_col4\" class=\"data row5 col4\" >0.5589</td>\n",
       "      <td id=\"T_89698_row5_col5\" class=\"data row5 col5\" >0.3494</td>\n",
       "      <td id=\"T_89698_row5_col6\" class=\"data row5 col6\" >0.3674</td>\n",
       "    </tr>\n",
       "    <tr>\n",
       "      <th id=\"T_89698_level0_row6\" class=\"row_heading level0 row6\" >SD</th>\n",
       "      <td id=\"T_89698_row6_col0\" class=\"data row6 col0\" >0.0080</td>\n",
       "      <td id=\"T_89698_row6_col1\" class=\"data row6 col1\" >0.0105</td>\n",
       "      <td id=\"T_89698_row6_col2\" class=\"data row6 col2\" >0.0329</td>\n",
       "      <td id=\"T_89698_row6_col3\" class=\"data row6 col3\" >0.0086</td>\n",
       "      <td id=\"T_89698_row6_col4\" class=\"data row6 col4\" >0.0099</td>\n",
       "      <td id=\"T_89698_row6_col5\" class=\"data row6 col5\" >0.0117</td>\n",
       "      <td id=\"T_89698_row6_col6\" class=\"data row6 col6\" >0.0142</td>\n",
       "    </tr>\n",
       "  </tbody>\n",
       "</table>\n"
      ],
      "text/plain": [
       "<pandas.io.formats.style.Styler at 0x7ff98264eb50>"
      ]
     },
     "metadata": {},
     "output_type": "display_data"
    }
   ],
   "source": [
    "knn = create_model('knn');"
   ]
  },
  {
   "cell_type": "code",
   "execution_count": null,
   "id": "8d34b2ae-03a5-4a0a-9462-dd15df207055",
   "metadata": {},
   "outputs": [],
   "source": [
    "custom_grid = {\n",
    "    'n_neighbors': np.arange(1, 21, 1),\n",
    "    'weights': ['uniform', 'distance'],\n",
    "    'leaf_size': [20, 30, 40],\n",
    "    'p': [0, 1, 2]\n",
    "}"
   ]
  },
  {
   "cell_type": "code",
   "execution_count": null,
   "id": "ef9f4edc-a2f2-418c-9c9f-b0d8a90af830",
   "metadata": {},
   "outputs": [
    {
     "data": {
      "text/html": [
       "<style type=\"text/css\">\n",
       "#T_7e225_row5_col0, #T_7e225_row5_col1, #T_7e225_row5_col2, #T_7e225_row5_col3, #T_7e225_row5_col4, #T_7e225_row5_col5, #T_7e225_row5_col6 {\n",
       "  background: yellow;\n",
       "}\n",
       "</style>\n",
       "<table id=\"T_7e225_\">\n",
       "  <thead>\n",
       "    <tr>\n",
       "      <th class=\"blank level0\" >&nbsp;</th>\n",
       "      <th class=\"col_heading level0 col0\" >Accuracy</th>\n",
       "      <th class=\"col_heading level0 col1\" >AUC</th>\n",
       "      <th class=\"col_heading level0 col2\" >Recall</th>\n",
       "      <th class=\"col_heading level0 col3\" >Prec.</th>\n",
       "      <th class=\"col_heading level0 col4\" >F1</th>\n",
       "      <th class=\"col_heading level0 col5\" >Kappa</th>\n",
       "      <th class=\"col_heading level0 col6\" >MCC</th>\n",
       "    </tr>\n",
       "  </thead>\n",
       "  <tbody>\n",
       "    <tr>\n",
       "      <th id=\"T_7e225_level0_row0\" class=\"row_heading level0 row0\" >0</th>\n",
       "      <td id=\"T_7e225_row0_col0\" class=\"data row0 col0\" >0.7458</td>\n",
       "      <td id=\"T_7e225_row0_col1\" class=\"data row0 col1\" >0.8178</td>\n",
       "      <td id=\"T_7e225_row0_col2\" class=\"data row0 col2\" >0.7306</td>\n",
       "      <td id=\"T_7e225_row0_col3\" class=\"data row0 col3\" >0.5170</td>\n",
       "      <td id=\"T_7e225_row0_col4\" class=\"data row0 col4\" >0.6055</td>\n",
       "      <td id=\"T_7e225_row0_col5\" class=\"data row0 col5\" >0.4260</td>\n",
       "      <td id=\"T_7e225_row0_col6\" class=\"data row0 col6\" >0.4399</td>\n",
       "    </tr>\n",
       "    <tr>\n",
       "      <th id=\"T_7e225_level0_row1\" class=\"row_heading level0 row1\" >1</th>\n",
       "      <td id=\"T_7e225_row1_col0\" class=\"data row1 col0\" >0.7337</td>\n",
       "      <td id=\"T_7e225_row1_col1\" class=\"data row1 col1\" >0.8012</td>\n",
       "      <td id=\"T_7e225_row1_col2\" class=\"data row1 col2\" >0.7630</td>\n",
       "      <td id=\"T_7e225_row1_col3\" class=\"data row1 col3\" >0.5000</td>\n",
       "      <td id=\"T_7e225_row1_col4\" class=\"data row1 col4\" >0.6041</td>\n",
       "      <td id=\"T_7e225_row1_col5\" class=\"data row1 col5\" >0.4163</td>\n",
       "      <td id=\"T_7e225_row1_col6\" class=\"data row1 col6\" >0.4375</td>\n",
       "    </tr>\n",
       "    <tr>\n",
       "      <th id=\"T_7e225_level0_row2\" class=\"row_heading level0 row2\" >2</th>\n",
       "      <td id=\"T_7e225_row2_col0\" class=\"data row2 col0\" >0.7594</td>\n",
       "      <td id=\"T_7e225_row2_col1\" class=\"data row2 col1\" >0.8356</td>\n",
       "      <td id=\"T_7e225_row2_col2\" class=\"data row2 col2\" >0.7934</td>\n",
       "      <td id=\"T_7e225_row2_col3\" class=\"data row2 col3\" >0.5335</td>\n",
       "      <td id=\"T_7e225_row2_col4\" class=\"data row2 col4\" >0.6380</td>\n",
       "      <td id=\"T_7e225_row2_col5\" class=\"data row2 col5\" >0.4679</td>\n",
       "      <td id=\"T_7e225_row2_col6\" class=\"data row2 col6\" >0.4886</td>\n",
       "    </tr>\n",
       "    <tr>\n",
       "      <th id=\"T_7e225_level0_row3\" class=\"row_heading level0 row3\" >3</th>\n",
       "      <td id=\"T_7e225_row3_col0\" class=\"data row3 col0\" >0.7249</td>\n",
       "      <td id=\"T_7e225_row3_col1\" class=\"data row3 col1\" >0.7960</td>\n",
       "      <td id=\"T_7e225_row3_col2\" class=\"data row3 col2\" >0.7749</td>\n",
       "      <td id=\"T_7e225_row3_col3\" class=\"data row3 col3\" >0.4907</td>\n",
       "      <td id=\"T_7e225_row3_col4\" class=\"data row3 col4\" >0.6009</td>\n",
       "      <td id=\"T_7e225_row3_col5\" class=\"data row3 col5\" >0.4067</td>\n",
       "      <td id=\"T_7e225_row3_col6\" class=\"data row3 col6\" >0.4314</td>\n",
       "    </tr>\n",
       "    <tr>\n",
       "      <th id=\"T_7e225_level0_row4\" class=\"row_heading level0 row4\" >4</th>\n",
       "      <td id=\"T_7e225_row4_col0\" class=\"data row4 col0\" >0.7337</td>\n",
       "      <td id=\"T_7e225_row4_col1\" class=\"data row4 col1\" >0.8003</td>\n",
       "      <td id=\"T_7e225_row4_col2\" class=\"data row4 col2\" >0.7417</td>\n",
       "      <td id=\"T_7e225_row4_col3\" class=\"data row4 col3\" >0.5012</td>\n",
       "      <td id=\"T_7e225_row4_col4\" class=\"data row4 col4\" >0.5982</td>\n",
       "      <td id=\"T_7e225_row4_col5\" class=\"data row4 col5\" >0.4100</td>\n",
       "      <td id=\"T_7e225_row4_col6\" class=\"data row4 col6\" >0.4277</td>\n",
       "    </tr>\n",
       "    <tr>\n",
       "      <th id=\"T_7e225_level0_row5\" class=\"row_heading level0 row5\" >Mean</th>\n",
       "      <td id=\"T_7e225_row5_col0\" class=\"data row5 col0\" >0.7395</td>\n",
       "      <td id=\"T_7e225_row5_col1\" class=\"data row5 col1\" >0.8102</td>\n",
       "      <td id=\"T_7e225_row5_col2\" class=\"data row5 col2\" >0.7607</td>\n",
       "      <td id=\"T_7e225_row5_col3\" class=\"data row5 col3\" >0.5085</td>\n",
       "      <td id=\"T_7e225_row5_col4\" class=\"data row5 col4\" >0.6093</td>\n",
       "      <td id=\"T_7e225_row5_col5\" class=\"data row5 col5\" >0.4254</td>\n",
       "      <td id=\"T_7e225_row5_col6\" class=\"data row5 col6\" >0.4450</td>\n",
       "    </tr>\n",
       "    <tr>\n",
       "      <th id=\"T_7e225_level0_row6\" class=\"row_heading level0 row6\" >SD</th>\n",
       "      <td id=\"T_7e225_row6_col0\" class=\"data row6 col0\" >0.0120</td>\n",
       "      <td id=\"T_7e225_row6_col1\" class=\"data row6 col1\" >0.0147</td>\n",
       "      <td id=\"T_7e225_row6_col2\" class=\"data row6 col2\" >0.0225</td>\n",
       "      <td id=\"T_7e225_row6_col3\" class=\"data row6 col3\" >0.0151</td>\n",
       "      <td id=\"T_7e225_row6_col4\" class=\"data row6 col4\" >0.0145</td>\n",
       "      <td id=\"T_7e225_row6_col5\" class=\"data row6 col5\" >0.0223</td>\n",
       "      <td id=\"T_7e225_row6_col6\" class=\"data row6 col6\" >0.0222</td>\n",
       "    </tr>\n",
       "  </tbody>\n",
       "</table>\n"
      ],
      "text/plain": [
       "<pandas.io.formats.style.Styler at 0x7ff9501a14f0>"
      ]
     },
     "metadata": {},
     "output_type": "display_data"
    },
    {
     "name": "stdout",
     "output_type": "stream",
     "text": [
      "CPU times: user 5.21 s, sys: 571 ms, total: 5.78 s\n",
      "Wall time: 1min 13s\n"
     ]
    }
   ],
   "source": [
    "%time tuned_knn = tune_model(knn, n_iter=1000, optimize='f1', custom_grid=custom_grid)"
   ]
  },
  {
   "cell_type": "code",
   "execution_count": null,
   "id": "80a6010d-3100-4613-b37b-00f3f4dc8ae4",
   "metadata": {},
   "outputs": [
    {
     "data": {
      "text/plain": [
       "KNeighborsClassifier(algorithm='auto', leaf_size=30, metric='minkowski',\n",
       "                     metric_params=None, n_jobs=5, n_neighbors=18, p=1,\n",
       "                     weights='uniform')"
      ]
     },
     "execution_count": 30,
     "metadata": {},
     "output_type": "execute_result"
    }
   ],
   "source": [
    "tuned_knn"
   ]
  },
  {
   "cell_type": "code",
   "execution_count": null,
   "id": "f9d1e28f-151e-4d0b-8291-702c4bafae97",
   "metadata": {},
   "outputs": [
    {
     "name": "stdout",
     "output_type": "stream",
     "text": [
      "+---------------+------------+----------+-------------+-------+\n",
      "|               |   Accuracy |   Recall |   Precision |    F1 |\n",
      "+===============+============+==========+=============+=======+\n",
      "| Model Summary |      0.733 |    0.694 |       0.496 | 0.578 |\n",
      "+---------------+------------+----------+-------------+-------+\n"
     ]
    }
   ],
   "source": [
    "srs.evaluate_model(tuned_knn, data=data_validation)"
   ]
  },
  {
   "cell_type": "markdown",
   "id": "59a74edf-7cdf-4cc7-8b93-3d5a2a32bbc6",
   "metadata": {},
   "source": [
    "**Decision tree**"
   ]
  },
  {
   "cell_type": "code",
   "execution_count": null,
   "id": "dcde13a4-ed27-43e9-8016-a553f3a7e1c6",
   "metadata": {},
   "outputs": [
    {
     "data": {
      "text/html": [
       "<style type=\"text/css\">\n",
       "#T_e7b62_row5_col0, #T_e7b62_row5_col1, #T_e7b62_row5_col2, #T_e7b62_row5_col3, #T_e7b62_row5_col4, #T_e7b62_row5_col5, #T_e7b62_row5_col6 {\n",
       "  background: yellow;\n",
       "}\n",
       "</style>\n",
       "<table id=\"T_e7b62_\">\n",
       "  <thead>\n",
       "    <tr>\n",
       "      <th class=\"blank level0\" >&nbsp;</th>\n",
       "      <th class=\"col_heading level0 col0\" >Accuracy</th>\n",
       "      <th class=\"col_heading level0 col1\" >AUC</th>\n",
       "      <th class=\"col_heading level0 col2\" >Recall</th>\n",
       "      <th class=\"col_heading level0 col3\" >Prec.</th>\n",
       "      <th class=\"col_heading level0 col4\" >F1</th>\n",
       "      <th class=\"col_heading level0 col5\" >Kappa</th>\n",
       "      <th class=\"col_heading level0 col6\" >MCC</th>\n",
       "    </tr>\n",
       "  </thead>\n",
       "  <tbody>\n",
       "    <tr>\n",
       "      <th id=\"T_e7b62_level0_row0\" class=\"row_heading level0 row0\" >0</th>\n",
       "      <td id=\"T_e7b62_row0_col0\" class=\"data row0 col0\" >0.7517</td>\n",
       "      <td id=\"T_e7b62_row0_col1\" class=\"data row0 col1\" >0.6979</td>\n",
       "      <td id=\"T_e7b62_row0_col2\" class=\"data row0 col2\" >0.5424</td>\n",
       "      <td id=\"T_e7b62_row0_col3\" class=\"data row0 col3\" >0.5345</td>\n",
       "      <td id=\"T_e7b62_row0_col4\" class=\"data row0 col4\" >0.5385</td>\n",
       "      <td id=\"T_e7b62_row0_col5\" class=\"data row0 col5\" >0.3687</td>\n",
       "      <td id=\"T_e7b62_row0_col6\" class=\"data row0 col6\" >0.3687</td>\n",
       "    </tr>\n",
       "    <tr>\n",
       "      <th id=\"T_e7b62_level0_row1\" class=\"row_heading level0 row1\" >1</th>\n",
       "      <td id=\"T_e7b62_row1_col0\" class=\"data row1 col0\" >0.7032</td>\n",
       "      <td id=\"T_e7b62_row1_col1\" class=\"data row1 col1\" >0.6517</td>\n",
       "      <td id=\"T_e7b62_row1_col2\" class=\"data row1 col2\" >0.4889</td>\n",
       "      <td id=\"T_e7b62_row1_col3\" class=\"data row1 col3\" >0.4475</td>\n",
       "      <td id=\"T_e7b62_row1_col4\" class=\"data row1 col4\" >0.4673</td>\n",
       "      <td id=\"T_e7b62_row1_col5\" class=\"data row1 col5\" >0.2621</td>\n",
       "      <td id=\"T_e7b62_row1_col6\" class=\"data row1 col6\" >0.2626</td>\n",
       "    </tr>\n",
       "    <tr>\n",
       "      <th id=\"T_e7b62_level0_row2\" class=\"row_heading level0 row2\" >2</th>\n",
       "      <td id=\"T_e7b62_row2_col0\" class=\"data row2 col0\" >0.7298</td>\n",
       "      <td id=\"T_e7b62_row2_col1\" class=\"data row2 col1\" >0.6868</td>\n",
       "      <td id=\"T_e7b62_row2_col2\" class=\"data row2 col2\" >0.4945</td>\n",
       "      <td id=\"T_e7b62_row2_col3\" class=\"data row2 col3\" >0.4945</td>\n",
       "      <td id=\"T_e7b62_row2_col4\" class=\"data row2 col4\" >0.4945</td>\n",
       "      <td id=\"T_e7b62_row2_col5\" class=\"data row2 col5\" >0.3101</td>\n",
       "      <td id=\"T_e7b62_row2_col6\" class=\"data row2 col6\" >0.3101</td>\n",
       "    </tr>\n",
       "    <tr>\n",
       "      <th id=\"T_e7b62_level0_row3\" class=\"row_heading level0 row3\" >3</th>\n",
       "      <td id=\"T_e7b62_row3_col0\" class=\"data row3 col0\" >0.7288</td>\n",
       "      <td id=\"T_e7b62_row3_col1\" class=\"data row3 col1\" >0.6673</td>\n",
       "      <td id=\"T_e7b62_row3_col2\" class=\"data row3 col2\" >0.5055</td>\n",
       "      <td id=\"T_e7b62_row3_col3\" class=\"data row3 col3\" >0.4928</td>\n",
       "      <td id=\"T_e7b62_row3_col4\" class=\"data row3 col4\" >0.4991</td>\n",
       "      <td id=\"T_e7b62_row3_col5\" class=\"data row3 col5\" >0.3132</td>\n",
       "      <td id=\"T_e7b62_row3_col6\" class=\"data row3 col6\" >0.3132</td>\n",
       "    </tr>\n",
       "    <tr>\n",
       "      <th id=\"T_e7b62_level0_row4\" class=\"row_heading level0 row4\" >4</th>\n",
       "      <td id=\"T_e7b62_row4_col0\" class=\"data row4 col0\" >0.7041</td>\n",
       "      <td id=\"T_e7b62_row4_col1\" class=\"data row4 col1\" >0.6566</td>\n",
       "      <td id=\"T_e7b62_row4_col2\" class=\"data row4 col2\" >0.4207</td>\n",
       "      <td id=\"T_e7b62_row4_col3\" class=\"data row4 col3\" >0.4436</td>\n",
       "      <td id=\"T_e7b62_row4_col4\" class=\"data row4 col4\" >0.4318</td>\n",
       "      <td id=\"T_e7b62_row4_col5\" class=\"data row4 col5\" >0.2320</td>\n",
       "      <td id=\"T_e7b62_row4_col6\" class=\"data row4 col6\" >0.2322</td>\n",
       "    </tr>\n",
       "    <tr>\n",
       "      <th id=\"T_e7b62_level0_row5\" class=\"row_heading level0 row5\" >Mean</th>\n",
       "      <td id=\"T_e7b62_row5_col0\" class=\"data row5 col0\" >0.7235</td>\n",
       "      <td id=\"T_e7b62_row5_col1\" class=\"data row5 col1\" >0.6720</td>\n",
       "      <td id=\"T_e7b62_row5_col2\" class=\"data row5 col2\" >0.4904</td>\n",
       "      <td id=\"T_e7b62_row5_col3\" class=\"data row5 col3\" >0.4826</td>\n",
       "      <td id=\"T_e7b62_row5_col4\" class=\"data row5 col4\" >0.4862</td>\n",
       "      <td id=\"T_e7b62_row5_col5\" class=\"data row5 col5\" >0.2972</td>\n",
       "      <td id=\"T_e7b62_row5_col6\" class=\"data row5 col6\" >0.2973</td>\n",
       "    </tr>\n",
       "    <tr>\n",
       "      <th id=\"T_e7b62_level0_row6\" class=\"row_heading level0 row6\" >SD</th>\n",
       "      <td id=\"T_e7b62_row6_col0\" class=\"data row6 col0\" >0.0182</td>\n",
       "      <td id=\"T_e7b62_row6_col1\" class=\"data row6 col1\" >0.0177</td>\n",
       "      <td id=\"T_e7b62_row6_col2\" class=\"data row6 col2\" >0.0395</td>\n",
       "      <td id=\"T_e7b62_row6_col3\" class=\"data row6 col3\" >0.0338</td>\n",
       "      <td id=\"T_e7b62_row6_col4\" class=\"data row6 col4\" >0.0354</td>\n",
       "      <td id=\"T_e7b62_row6_col5\" class=\"data row6 col5\" >0.0469</td>\n",
       "      <td id=\"T_e7b62_row6_col6\" class=\"data row6 col6\" >0.0468</td>\n",
       "    </tr>\n",
       "  </tbody>\n",
       "</table>\n"
      ],
      "text/plain": [
       "<pandas.io.formats.style.Styler at 0x7ff980a735b0>"
      ]
     },
     "metadata": {},
     "output_type": "display_data"
    }
   ],
   "source": [
    "dt = create_model('dt');"
   ]
  },
  {
   "cell_type": "code",
   "execution_count": null,
   "id": "0c8b0659-7d97-48f0-842e-4e4d8015cb29",
   "metadata": {},
   "outputs": [],
   "source": [
    "custom_grid = {\n",
    "    'criterion': ['gini', 'entropy'],\n",
    "    'splitter': ['best'],\n",
    "    'max_depth': np.arange(2, 11, 1),\n",
    "    'max_features': ['log2'],\n",
    "    'class_weight': ['balanced'],\n",
    "    'ccp_alpha': np.logspace(0.0001, 4, num=50)[:25] / 10000\n",
    "}"
   ]
  },
  {
   "cell_type": "code",
   "execution_count": null,
   "id": "87833b87-c476-48dd-97da-0fef3116542b",
   "metadata": {},
   "outputs": [
    {
     "data": {
      "text/html": [
       "<style type=\"text/css\">\n",
       "#T_1257d_row5_col0, #T_1257d_row5_col1, #T_1257d_row5_col2, #T_1257d_row5_col3, #T_1257d_row5_col4, #T_1257d_row5_col5, #T_1257d_row5_col6 {\n",
       "  background: yellow;\n",
       "}\n",
       "</style>\n",
       "<table id=\"T_1257d_\">\n",
       "  <thead>\n",
       "    <tr>\n",
       "      <th class=\"blank level0\" >&nbsp;</th>\n",
       "      <th class=\"col_heading level0 col0\" >Accuracy</th>\n",
       "      <th class=\"col_heading level0 col1\" >AUC</th>\n",
       "      <th class=\"col_heading level0 col2\" >Recall</th>\n",
       "      <th class=\"col_heading level0 col3\" >Prec.</th>\n",
       "      <th class=\"col_heading level0 col4\" >F1</th>\n",
       "      <th class=\"col_heading level0 col5\" >Kappa</th>\n",
       "      <th class=\"col_heading level0 col6\" >MCC</th>\n",
       "    </tr>\n",
       "  </thead>\n",
       "  <tbody>\n",
       "    <tr>\n",
       "      <th id=\"T_1257d_level0_row0\" class=\"row_heading level0 row0\" >0</th>\n",
       "      <td id=\"T_1257d_row0_col0\" class=\"data row0 col0\" >0.7783</td>\n",
       "      <td id=\"T_1257d_row0_col1\" class=\"data row0 col1\" >0.8212</td>\n",
       "      <td id=\"T_1257d_row0_col2\" class=\"data row0 col2\" >0.6753</td>\n",
       "      <td id=\"T_1257d_row0_col3\" class=\"data row0 col3\" >0.5719</td>\n",
       "      <td id=\"T_1257d_row0_col4\" class=\"data row0 col4\" >0.6193</td>\n",
       "      <td id=\"T_1257d_row0_col5\" class=\"data row0 col5\" >0.4644</td>\n",
       "      <td id=\"T_1257d_row0_col6\" class=\"data row0 col6\" >0.4676</td>\n",
       "    </tr>\n",
       "    <tr>\n",
       "      <th id=\"T_1257d_level0_row1\" class=\"row_heading level0 row1\" >1</th>\n",
       "      <td id=\"T_1257d_row1_col0\" class=\"data row1 col0\" >0.7722</td>\n",
       "      <td id=\"T_1257d_row1_col1\" class=\"data row1 col1\" >0.8118</td>\n",
       "      <td id=\"T_1257d_row1_col2\" class=\"data row1 col2\" >0.6963</td>\n",
       "      <td id=\"T_1257d_row1_col3\" class=\"data row1 col3\" >0.5579</td>\n",
       "      <td id=\"T_1257d_row1_col4\" class=\"data row1 col4\" >0.6194</td>\n",
       "      <td id=\"T_1257d_row1_col5\" class=\"data row1 col5\" >0.4597</td>\n",
       "      <td id=\"T_1257d_row1_col6\" class=\"data row1 col6\" >0.4654</td>\n",
       "    </tr>\n",
       "    <tr>\n",
       "      <th id=\"T_1257d_level0_row2\" class=\"row_heading level0 row2\" >2</th>\n",
       "      <td id=\"T_1257d_row2_col0\" class=\"data row2 col0\" >0.7860</td>\n",
       "      <td id=\"T_1257d_row2_col1\" class=\"data row2 col1\" >0.8443</td>\n",
       "      <td id=\"T_1257d_row2_col2\" class=\"data row2 col2\" >0.7454</td>\n",
       "      <td id=\"T_1257d_row2_col3\" class=\"data row2 col3\" >0.5771</td>\n",
       "      <td id=\"T_1257d_row2_col4\" class=\"data row2 col4\" >0.6506</td>\n",
       "      <td id=\"T_1257d_row2_col5\" class=\"data row2 col5\" >0.4999</td>\n",
       "      <td id=\"T_1257d_row2_col6\" class=\"data row2 col6\" >0.5084</td>\n",
       "    </tr>\n",
       "    <tr>\n",
       "      <th id=\"T_1257d_level0_row3\" class=\"row_heading level0 row3\" >3</th>\n",
       "      <td id=\"T_1257d_row3_col0\" class=\"data row3 col0\" >0.7643</td>\n",
       "      <td id=\"T_1257d_row3_col1\" class=\"data row3 col1\" >0.8162</td>\n",
       "      <td id=\"T_1257d_row3_col2\" class=\"data row3 col2\" >0.7232</td>\n",
       "      <td id=\"T_1257d_row3_col3\" class=\"data row3 col3\" >0.5444</td>\n",
       "      <td id=\"T_1257d_row3_col4\" class=\"data row3 col4\" >0.6212</td>\n",
       "      <td id=\"T_1257d_row3_col5\" class=\"data row3 col5\" >0.4551</td>\n",
       "      <td id=\"T_1257d_row3_col6\" class=\"data row3 col6\" >0.4647</td>\n",
       "    </tr>\n",
       "    <tr>\n",
       "      <th id=\"T_1257d_level0_row4\" class=\"row_heading level0 row4\" >4</th>\n",
       "      <td id=\"T_1257d_row4_col0\" class=\"data row4 col0\" >0.7495</td>\n",
       "      <td id=\"T_1257d_row4_col1\" class=\"data row4 col1\" >0.8007</td>\n",
       "      <td id=\"T_1257d_row4_col2\" class=\"data row4 col2\" >0.7085</td>\n",
       "      <td id=\"T_1257d_row4_col3\" class=\"data row4 col3\" >0.5232</td>\n",
       "      <td id=\"T_1257d_row4_col4\" class=\"data row4 col4\" >0.6019</td>\n",
       "      <td id=\"T_1257d_row4_col5\" class=\"data row4 col5\" >0.4251</td>\n",
       "      <td id=\"T_1257d_row4_col6\" class=\"data row4 col6\" >0.4355</td>\n",
       "    </tr>\n",
       "    <tr>\n",
       "      <th id=\"T_1257d_level0_row5\" class=\"row_heading level0 row5\" >Mean</th>\n",
       "      <td id=\"T_1257d_row5_col0\" class=\"data row5 col0\" >0.7701</td>\n",
       "      <td id=\"T_1257d_row5_col1\" class=\"data row5 col1\" >0.8188</td>\n",
       "      <td id=\"T_1257d_row5_col2\" class=\"data row5 col2\" >0.7097</td>\n",
       "      <td id=\"T_1257d_row5_col3\" class=\"data row5 col3\" >0.5549</td>\n",
       "      <td id=\"T_1257d_row5_col4\" class=\"data row5 col4\" >0.6225</td>\n",
       "      <td id=\"T_1257d_row5_col5\" class=\"data row5 col5\" >0.4608</td>\n",
       "      <td id=\"T_1257d_row5_col6\" class=\"data row5 col6\" >0.4683</td>\n",
       "    </tr>\n",
       "    <tr>\n",
       "      <th id=\"T_1257d_level0_row6\" class=\"row_heading level0 row6\" >SD</th>\n",
       "      <td id=\"T_1257d_row6_col0\" class=\"data row6 col0\" >0.0125</td>\n",
       "      <td id=\"T_1257d_row6_col1\" class=\"data row6 col1\" >0.0144</td>\n",
       "      <td id=\"T_1257d_row6_col2\" class=\"data row6 col2\" >0.0238</td>\n",
       "      <td id=\"T_1257d_row6_col3\" class=\"data row6 col3\" >0.0195</td>\n",
       "      <td id=\"T_1257d_row6_col4\" class=\"data row6 col4\" >0.0157</td>\n",
       "      <td id=\"T_1257d_row6_col5\" class=\"data row6 col5\" >0.0239</td>\n",
       "      <td id=\"T_1257d_row6_col6\" class=\"data row6 col6\" >0.0233</td>\n",
       "    </tr>\n",
       "  </tbody>\n",
       "</table>\n"
      ],
      "text/plain": [
       "<pandas.io.formats.style.Styler at 0x7ff961388700>"
      ]
     },
     "metadata": {},
     "output_type": "display_data"
    },
    {
     "name": "stdout",
     "output_type": "stream",
     "text": [
      "CPU times: user 4 s, sys: 415 ms, total: 4.42 s\n",
      "Wall time: 25.5 s\n"
     ]
    }
   ],
   "source": [
    "%time tuned_dt = tune_model(dt, n_iter=1000, optimize='f1', custom_grid=custom_grid)"
   ]
  },
  {
   "cell_type": "code",
   "execution_count": null,
   "id": "55cfbfe5-60b5-48a5-80fc-83187cd3b704",
   "metadata": {},
   "outputs": [
    {
     "data": {
      "text/plain": [
       "DecisionTreeClassifier(ccp_alpha=0.002023903474267161, class_weight='balanced',\n",
       "                       criterion='entropy', max_depth=10, max_features='log2',\n",
       "                       max_leaf_nodes=None, min_impurity_decrease=0.0,\n",
       "                       min_impurity_split=None, min_samples_leaf=1,\n",
       "                       min_samples_split=2, min_weight_fraction_leaf=0.0,\n",
       "                       presort='deprecated', random_state=7106,\n",
       "                       splitter='best')"
      ]
     },
     "execution_count": 35,
     "metadata": {},
     "output_type": "execute_result"
    }
   ],
   "source": [
    "tuned_dt"
   ]
  },
  {
   "cell_type": "code",
   "execution_count": null,
   "id": "02f80a8b-1ada-4274-8e16-ffe44d61ae54",
   "metadata": {},
   "outputs": [
    {
     "name": "stdout",
     "output_type": "stream",
     "text": [
      "+---------------+------------+----------+-------------+-------+\n",
      "|               |   Accuracy |   Recall |   Precision |    F1 |\n",
      "+===============+============+==========+=============+=======+\n",
      "| Model Summary |      0.722 |    0.613 |       0.479 | 0.538 |\n",
      "+---------------+------------+----------+-------------+-------+\n"
     ]
    }
   ],
   "source": [
    "srs.evaluate_model(tuned_dt, data=data_validation)"
   ]
  },
  {
   "cell_type": "markdown",
   "id": "7f19bf91-10f5-4817-8589-950de5892585",
   "metadata": {
    "tags": []
   },
   "source": [
    "### Finalize a model"
   ]
  },
  {
   "cell_type": "code",
   "execution_count": null,
   "id": "eb5d2de1-8bec-4af1-b529-1664591ed615",
   "metadata": {},
   "outputs": [],
   "source": [
    "final_lr = finalize_model(lr)"
   ]
  },
  {
   "cell_type": "code",
   "execution_count": 46,
   "id": "c839c7dd-ad21-4497-8191-ba74a7de610a",
   "metadata": {},
   "outputs": [
    {
     "data": {
      "text/plain": [
       "LogisticRegression(C=1.0, class_weight=None, dual=False, fit_intercept=True,\n",
       "                   intercept_scaling=1, l1_ratio=None, max_iter=1000,\n",
       "                   multi_class='auto', n_jobs=None, penalty='l2',\n",
       "                   random_state=7106, solver='lbfgs', tol=0.0001, verbose=0,\n",
       "                   warm_start=False)"
      ]
     },
     "execution_count": 46,
     "metadata": {},
     "output_type": "execute_result"
    }
   ],
   "source": [
    "final_lr"
   ]
  },
  {
   "cell_type": "code",
   "execution_count": null,
   "id": "b91ac32e-c3ee-428f-ace8-bb4bcc946c59",
   "metadata": {},
   "outputs": [
    {
     "name": "stdout",
     "output_type": "stream",
     "text": [
      "+---------------+------------+----------+-------------+-------+\n",
      "|               |   Accuracy |   Recall |   Precision |    F1 |\n",
      "+===============+============+==========+=============+=======+\n",
      "| Model Summary |      0.741 |     0.71 |       0.508 | 0.592 |\n",
      "+---------------+------------+----------+-------------+-------+\n"
     ]
    }
   ],
   "source": [
    "srs.evaluate_model(final_lr, data=data_validation)"
   ]
  },
  {
   "cell_type": "code",
   "execution_count": null,
   "id": "e6f9e3c8-c335-4bb3-9164-066e6dc1a41a",
   "metadata": {},
   "outputs": [
    {
     "data": {
      "image/png": "[encoded data removed]",
      "text/plain": [
       "<Figure size 576x396 with 1 Axes>"
      ]
     },
     "metadata": {},
     "output_type": "display_data"
    }
   ],
   "source": [
    "plot_model(final_lr, plot = 'confusion_matrix', save=True)\n",
    "plot_model(final_lr, plot = 'confusion_matrix', save=False)"
   ]
  },
  {
   "cell_type": "code",
   "execution_count": null,
   "id": "7f802e9a-1bb5-488b-8802-2da0e6233a5a",
   "metadata": {},
   "outputs": [
    {
     "data": {
      "image/png": "[encoded data removed]",
      "text/plain": [
       "<Figure size 576x396 with 1 Axes>"
      ]
     },
     "metadata": {},
     "output_type": "display_data"
    }
   ],
   "source": [
    "plot_model(final_lr, plot = 'error', save=True)\n",
    "plot_model(final_lr, plot = 'error', save=False)"
   ]
  },
  {
   "cell_type": "code",
   "execution_count": null,
   "id": "d3208bed-ded2-4917-84bd-33a2a9ccb6f4",
   "metadata": {},
   "outputs": [
    {
     "data": {
      "image/png": "[encoded data removed]",
      "text/plain": [
       "<Figure size 800x500 with 1 Axes>"
      ]
     },
     "metadata": {},
     "output_type": "display_data"
    }
   ],
   "source": [
    "plot_model(final_lr, plot = 'feature', save=True)\n",
    "plot_model(final_lr, plot = 'feature', save=False)"
   ]
  },
  {
   "cell_type": "markdown",
   "id": "67025186-b58b-4a2b-a60e-7e90c1a3e781",
   "metadata": {},
   "source": [
    "Save the model."
   ]
  },
  {
   "cell_type": "code",
   "execution_count": null,
   "id": "5a3eee4b-62a3-41a6-b7a9-3dd8cf4a83d4",
   "metadata": {},
   "outputs": [],
   "source": [
    "save_model(final_lr, 'lr_pipeline_31102021', model_only=False)"
   ]
  },
  {
   "cell_type": "code",
   "execution_count": null,
   "id": "569260db-e72c-4521-b774-adb7d60c5764",
   "metadata": {},
   "outputs": [],
   "source": [
    "# final_lr = load_model('../model/lr_pipeline_31102021')"
   ]
  }
 ],
 "metadata": {
  "kernelspec": {
   "display_name": "Python 3 (ipykernel)",
   "language": "python",
   "name": "python3"
  },
  "language_info": {
   "codemirror_mode": {
    "name": "ipython",
    "version": 3
   },
   "file_extension": ".py",
   "mimetype": "text/x-python",
   "name": "python",
   "nbconvert_exporter": "python",
   "pygments_lexer": "ipython3",
   "version": "3.8.12"
  }
 },
 "nbformat": 4,
 "nbformat_minor": 5
}
